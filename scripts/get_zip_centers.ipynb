{
 "cells": [
  {
   "cell_type": "code",
   "execution_count": 1,
   "metadata": {
    "collapsed": false,
    "deletable": true,
    "editable": true
   },
   "outputs": [],
   "source": [
    "import matplotlib\n",
    "import numpy as np\n",
    "import matplotlib.pyplot as plt\n",
    "%matplotlib inline \n",
    "import geopandas as gpd\n",
    "import pandas as pd\n",
    "zipcodes = gpd.GeoDataFrame.from_file(\"../data/NYC_shapefiles/ZIP_CODE_040114.shp\")"
   ]
  },
  {
   "cell_type": "code",
   "execution_count": 2,
   "metadata": {
    "collapsed": false,
    "deletable": true,
    "editable": true
   },
   "outputs": [
    {
     "data": {
      "text/html": [
       "<div>\n",
       "<table border=\"1\" class=\"dataframe\">\n",
       "  <thead>\n",
       "    <tr style=\"text-align: right;\">\n",
       "      <th></th>\n",
       "      <th>CENTER</th>\n",
       "      <th>ZIPCODE</th>\n",
       "      <th>geometry</th>\n",
       "    </tr>\n",
       "  </thead>\n",
       "  <tbody>\n",
       "    <tr>\n",
       "      <th>0</th>\n",
       "      <td>POINT (1040696.262135346 185580.2219261294)</td>\n",
       "      <td>11436</td>\n",
       "      <td>POINT (1040696.262135346 185580.2219261294)</td>\n",
       "    </tr>\n",
       "    <tr>\n",
       "      <th>1</th>\n",
       "      <td>POINT (1001912.871996464 183803.1131541387)</td>\n",
       "      <td>11213</td>\n",
       "      <td>POINT (1001912.871996464 183803.1131541387)</td>\n",
       "    </tr>\n",
       "    <tr>\n",
       "      <th>2</th>\n",
       "      <td>POINT (1008365.375095716 180768.9448689806)</td>\n",
       "      <td>11212</td>\n",
       "      <td>POINT (1008365.375095716 180768.9448689806)</td>\n",
       "    </tr>\n",
       "    <tr>\n",
       "      <th>3</th>\n",
       "      <td>POINT (997023.1926918939 180870.3533321874)</td>\n",
       "      <td>11225</td>\n",
       "      <td>POINT (997023.1926918939 180870.3533321874)</td>\n",
       "    </tr>\n",
       "    <tr>\n",
       "      <th>4</th>\n",
       "      <td>POINT (990785.2911208548 173656.0483912228)</td>\n",
       "      <td>11218</td>\n",
       "      <td>POINT (990785.2911208548 173656.0483912228)</td>\n",
       "    </tr>\n",
       "  </tbody>\n",
       "</table>\n",
       "</div>"
      ],
      "text/plain": [
       "                                        CENTER ZIPCODE  \\\n",
       "0  POINT (1040696.262135346 185580.2219261294)   11436   \n",
       "1  POINT (1001912.871996464 183803.1131541387)   11213   \n",
       "2  POINT (1008365.375095716 180768.9448689806)   11212   \n",
       "3  POINT (997023.1926918939 180870.3533321874)   11225   \n",
       "4  POINT (990785.2911208548 173656.0483912228)   11218   \n",
       "\n",
       "                                      geometry  \n",
       "0  POINT (1040696.262135346 185580.2219261294)  \n",
       "1  POINT (1001912.871996464 183803.1131541387)  \n",
       "2  POINT (1008365.375095716 180768.9448689806)  \n",
       "3  POINT (997023.1926918939 180870.3533321874)  \n",
       "4  POINT (990785.2911208548 173656.0483912228)  "
      ]
     },
     "execution_count": 2,
     "metadata": {},
     "output_type": "execute_result"
    },
    {
     "data": {
      "image/png": "[encoded data removed]",
      "text/plain": [
       "<matplotlib.figure.Figure at 0x10fe63c90>"
      ]
     },
     "metadata": {},
     "output_type": "display_data"
    }
   ],
   "source": [
    "zipcodes_proj = zipcodes.to_crs({'init': u'epsg:2263'})\n",
    "zipcodes_proj[\"CENTER\"] = zipcodes_proj.geometry.centroid\n",
    "centers = gpd.GeoDataFrame(zipcodes_proj[[\"CENTER\", \"ZIPCODE\"]] , geometry=zipcodes_proj[\"CENTER\"])\n",
    "centers.plot()\n",
    "centers.head()"
   ]
  },
  {
   "cell_type": "code",
   "execution_count": 3,
   "metadata": {
    "collapsed": false,
    "deletable": true,
    "editable": true
   },
   "outputs": [],
   "source": [
    "centers_csv = pd.DataFrame(columns=['x', 'y', 'zipcode'])\n",
    "centers_csv[\"x\"] = centers.centroid.map(lambda p: p.x)\n",
    "centers_csv[\"y\"] = centers.centroid.map(lambda p: p.y)\n",
    "centers_csv[\"zipcode\"] = centers[\"ZIPCODE\"]\n",
    "centers_csv.to_csv('../clean-data/zip_centers.csv', index=False)\n",
    "#centers.to_file('../clean-data/zip_centers.shp')"
   ]
  },
  {
   "cell_type": "code",
   "execution_count": 4,
   "metadata": {
    "collapsed": false,
    "deletable": true,
    "editable": true
   },
   "outputs": [],
   "source": [
    "test = pd.read_csv(\"../clean-data/zip_centers.csv\")\n"
   ]
  },
  {
   "cell_type": "code",
   "execution_count": 5,
   "metadata": {
    "collapsed": false
   },
   "outputs": [
    {
     "data": {
      "text/html": [
       "<div>\n",
       "<table border=\"1\" class=\"dataframe\">\n",
       "  <thead>\n",
       "    <tr style=\"text-align: right;\">\n",
       "      <th></th>\n",
       "      <th>x</th>\n",
       "      <th>y</th>\n",
       "      <th>zipcode</th>\n",
       "    </tr>\n",
       "  </thead>\n",
       "  <tbody>\n",
       "    <tr>\n",
       "      <th>0</th>\n",
       "      <td>1.040696e+06</td>\n",
       "      <td>185580.221926</td>\n",
       "      <td>11436</td>\n",
       "    </tr>\n",
       "    <tr>\n",
       "      <th>1</th>\n",
       "      <td>1.001913e+06</td>\n",
       "      <td>183803.113154</td>\n",
       "      <td>11213</td>\n",
       "    </tr>\n",
       "    <tr>\n",
       "      <th>2</th>\n",
       "      <td>1.008365e+06</td>\n",
       "      <td>180768.944869</td>\n",
       "      <td>11212</td>\n",
       "    </tr>\n",
       "    <tr>\n",
       "      <th>3</th>\n",
       "      <td>9.970232e+05</td>\n",
       "      <td>180870.353332</td>\n",
       "      <td>11225</td>\n",
       "    </tr>\n",
       "    <tr>\n",
       "      <th>4</th>\n",
       "      <td>9.907853e+05</td>\n",
       "      <td>173656.048391</td>\n",
       "      <td>11218</td>\n",
       "    </tr>\n",
       "  </tbody>\n",
       "</table>\n",
       "</div>"
      ],
      "text/plain": [
       "              x              y  zipcode\n",
       "0  1.040696e+06  185580.221926    11436\n",
       "1  1.001913e+06  183803.113154    11213\n",
       "2  1.008365e+06  180768.944869    11212\n",
       "3  9.970232e+05  180870.353332    11225\n",
       "4  9.907853e+05  173656.048391    11218"
      ]
     },
     "execution_count": 5,
     "metadata": {},
     "output_type": "execute_result"
    }
   ],
   "source": [
    "test.head()"
   ]
  }
 ],
 "metadata": {
  "kernelspec": {
   "display_name": "Python 2",
   "language": "python",
   "name": "python2"
  },
  "language_info": {
   "codemirror_mode": {
    "name": "ipython",
    "version": 2
   },
   "file_extension": ".py",
   "mimetype": "text/x-python",
   "name": "python",
   "nbconvert_exporter": "python",
   "pygments_lexer": "ipython2",
   "version": "2.7.10"
  }
 },
 "nbformat": 4,
 "nbformat_minor": 2
}
