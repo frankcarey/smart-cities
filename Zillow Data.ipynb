{
 "cells": [
  {
   "cell_type": "code",
   "execution_count": 7,
   "metadata": {
    "collapsed": false,
    "deletable": true,
    "editable": true
   },
   "outputs": [
    {
     "name": "stdout",
     "output_type": "stream",
     "text": [
      "Populating the interactive namespace from numpy and matplotlib\n"
     ]
    }
   ],
   "source": [
    "from __future__ import print_function, division\n",
    "\n",
    "#importing pandas for reading and parsing of tabulated data\n",
    "import pandas as pd\n",
    "#importing geopandas read to plot geographical information\n",
    "import geopandas as gpd\n",
    "#importing fiona to handle geographical coordinates\n",
    "import fiona\n",
    "#import shapely to handle geographical shapes\n",
    "import shapely\n",
    "\n",
    "import pylab as pl\n",
    "%pylab inline\n"
   ]
  },
  {
   "cell_type": "code",
   "execution_count": 8,
   "metadata": {
    "collapsed": true,
    "deletable": true,
    "editable": true
   },
   "outputs": [],
   "source": [
    "from pandas.io.gbq import read_gbq"
   ]
  },
  {
   "cell_type": "markdown",
   "metadata": {
    "deletable": true,
    "editable": true
   },
   "source": [
    "## Parks"
   ]
  },
  {
   "cell_type": "code",
   "execution_count": 5,
   "metadata": {
    "collapsed": false,
    "deletable": true,
    "editable": true
   },
   "outputs": [
    {
     "name": "stdout",
     "output_type": "stream",
     "text": [
      "/Users/ingridspielman/Desktop/nytimes\n"
     ]
    }
   ],
   "source": [
    "cd .."
   ]
  },
  {
   "cell_type": "code",
   "execution_count": 6,
   "metadata": {
    "collapsed": false,
    "deletable": true,
    "editable": true
   },
   "outputs": [],
   "source": [
    "parks = gpd.GeoDataFrame.from_file(\"smart_cities/NYC_shapefiles/Parks Properties.geojson\")"
   ]
  },
  {
   "cell_type": "markdown",
   "metadata": {
    "deletable": true,
    "editable": true
   },
   "source": [
    "## Zipcodes"
   ]
  },
  {
   "cell_type": "code",
   "execution_count": 7,
   "metadata": {
    "collapsed": true,
    "deletable": true,
    "editable": true
   },
   "outputs": [],
   "source": [
    "zipcodes = gpd.GeoDataFrame.from_file(\"smart_cities/NYC_shapefiles/ZIP_CODE_040114/ZIP_CODE_040114.shp\")"
   ]
  },
  {
   "cell_type": "markdown",
   "metadata": {
    "deletable": true,
    "editable": true
   },
   "source": [
    "## Zillow Data"
   ]
  },
  {
   "cell_type": "code",
   "execution_count": 37,
   "metadata": {
    "collapsed": false
   },
   "outputs": [],
   "source": [
    "zipcodes_nyc = [\n",
    "    '10001',\n",
    "    '10002',\n",
    "    '10003',\n",
    "    '10004',\n",
    "    '10005',\n",
    "    '10006',\n",
    "    '10007',\n",
    "    '10009',\n",
    "    '10010',\n",
    "    '10011',\n",
    "    '10012',\n",
    "    '10013',\n",
    "    '10014',\n",
    "    '10016',\n",
    "    '10017',\n",
    "    '10018',\n",
    "    '10019',\n",
    "    '10020',\n",
    "    '10021',\n",
    "    '10022',\n",
    "    '10023',\n",
    "    '10024',\n",
    "    '10025',\n",
    "    '10026',\n",
    "    '10027',\n",
    "    '10028',\n",
    "    '10029',\n",
    "    '10030',\n",
    "    '10031',\n",
    "    '10032',\n",
    "    '10033',\n",
    "    '10034',\n",
    "    '10035',\n",
    "    '10036',\n",
    "    '10037',\n",
    "    '10038',\n",
    "    '10039',\n",
    "    '10040',\n",
    "    '10044',\n",
    "    '10048',\n",
    "    '10065',\n",
    "    '10069',\n",
    "    '10075',\n",
    "    '10111',\n",
    "    '10115',\n",
    "    '10128',\n",
    "    '10280',\n",
    "    '10281',\n",
    "    '10282',\n",
    "    '10301',\n",
    "    '10302',\n",
    "    '10303',\n",
    "    '10304',\n",
    "    '10305',\n",
    "    '10306',\n",
    "    '10307',\n",
    "    '10308',\n",
    "    '10309',\n",
    "    '10310',\n",
    "    '10312',\n",
    "    '10314',\n",
    "    '10451',\n",
    "    '10452',\n",
    "    '10453',\n",
    "    '10454',\n",
    "    '10455',\n",
    "    '10456',\n",
    "    '10457',\n",
    "    '10458',\n",
    "    '10459',\n",
    "    '10460',\n",
    "    '10461',\n",
    "    '10462',\n",
    "    '10465',\n",
    "    '10466',\n",
    "    '10467',\n",
    "    '10468',\n",
    "    '10469',\n",
    "    '10470',\n",
    "    '10471',\n",
    "    '10472',\n",
    "    '10473',\n",
    "    '10474',\n",
    "    '10475',\n",
    "    '11001',\n",
    "    '11004',\n",
    "    '11005',\n",
    "    '11040',\n",
    "    '11096',\n",
    "    '11101',\n",
    "    '11102',\n",
    "    '11103',\n",
    "    '11104',\n",
    "    '11105',\n",
    "    '11106',\n",
    "    '11109',\n",
    "    '11201',\n",
    "    '11203',\n",
    "    '11204',\n",
    "    '11205',\n",
    "    '11206',\n",
    "    '11207',\n",
    "    '11208',\n",
    "    '11209',\n",
    "    '11210',\n",
    "    '11211',\n",
    "    '11212',\n",
    "    '11213',\n",
    "    '11214',\n",
    "    '11215',\n",
    "    '11216',\n",
    "    '11217',\n",
    "    '11218',\n",
    "    '11219',\n",
    "    '11220',\n",
    "    '11221',\n",
    "    '11222',\n",
    "    '11223',\n",
    "    '11224',\n",
    "    '11225',\n",
    "    '11226',\n",
    "    '11228',\n",
    "    '11229',\n",
    "    '11230',\n",
    "    '11231',\n",
    "    '11232',\n",
    "    '11233',\n",
    "    '11234',\n",
    "    '11235',\n",
    "    '11236',\n",
    "    '11237',\n",
    "    '11238',\n",
    "    '11239',\n",
    "    '11251',\n",
    "    '11354',\n",
    "    '11355',\n",
    "    '11356',\n",
    "    '11357',\n",
    "    '11358',\n",
    "    '11359',\n",
    "    '11360',\n",
    "    '11361',\n",
    "    '11362',\n",
    "    '11363',\n",
    "    '11364',\n",
    "    '11365',\n",
    "    '11366',\n",
    "    '11367',\n",
    "    '11368',\n",
    "    '11369',\n",
    "    '11371',\n",
    "    '11372',\n",
    "    '11373',\n",
    "    '11374',\n",
    "    '11375',\n",
    "    '11377',\n",
    "    '11378',\n",
    "    '11379',\n",
    "    '11385',\n",
    "    '11411',\n",
    "    '11412',\n",
    "    '11413',\n",
    "    '11414',\n",
    "    '11415',\n",
    "    '11416',\n",
    "    '11417',\n",
    "    '11418',\n",
    "    '11419',\n",
    "    '11420',\n",
    "    '11421',\n",
    "    '11422',\n",
    "    '11423',\n",
    "    '11426',\n",
    "    '11427',\n",
    "    '11428',\n",
    "    '11429',\n",
    "    '11430',\n",
    "    '11432',\n",
    "    '11433',\n",
    "    '11434',\n",
    "    '11435',\n",
    "    '11436',\n",
    "    '11451',\n",
    "    '11691',\n",
    "    '11692',\n",
    "    '11694',\n",
    "    '11697',\n",
    "]\n",
    "zipcodes_nyc = [int(x) for x in zipcodes_nyc]"
   ]
  },
  {
   "cell_type": "code",
   "execution_count": 51,
   "metadata": {
    "collapsed": false,
    "deletable": true,
    "editable": true
   },
   "outputs": [
    {
     "name": "stdout",
     "output_type": "stream",
     "text": [
      "Requesting query... ok.\n",
      "Query running...\n",
      "Query done.\n",
      "Cache hit.\n",
      "\n",
      "Retrieving results...\n",
      "Got 87 rows.\n",
      "\n",
      "Total time taken 1.0 s.\n",
      "Finished at 2017-03-25 13:16:03.\n"
     ]
    }
   ],
   "source": [
    "from pandas.io.gbq import read_gbq  \n",
    "project = \"spheric-crow-161317\" \n",
    "sample_query = \"SELECT * FROM `smart_cities_data.median_rents_zipcode_studio`\"  \n",
    "studio_zip = read_gbq(query=sample_query, project_id=project, dialect='standard')\n",
    "studio_zip['kind'] = 'studio'"
   ]
  },
  {
   "cell_type": "code",
   "execution_count": 43,
   "metadata": {
    "collapsed": false
   },
   "outputs": [
    {
     "data": {
      "text/plain": [
       "(87, 79)"
      ]
     },
     "execution_count": 43,
     "metadata": {},
     "output_type": "execute_result"
    }
   ],
   "source": [
    "studio_zip.shape"
   ]
  },
  {
   "cell_type": "code",
   "execution_count": 44,
   "metadata": {
    "collapsed": false
   },
   "outputs": [
    {
     "data": {
      "text/plain": [
       "(424, 89)"
      ]
     },
     "execution_count": 44,
     "metadata": {},
     "output_type": "execute_result"
    }
   ],
   "source": [
    "br1_zip.shape"
   ]
  },
  {
   "cell_type": "code",
   "execution_count": 45,
   "metadata": {
    "collapsed": false
   },
   "outputs": [
    {
     "data": {
      "text/plain": [
       "(619, 91)"
      ]
     },
     "execution_count": 45,
     "metadata": {},
     "output_type": "execute_result"
    }
   ],
   "source": [
    "br2_zip.shape"
   ]
  },
  {
   "cell_type": "code",
   "execution_count": 46,
   "metadata": {
    "collapsed": false,
    "deletable": true,
    "editable": true
   },
   "outputs": [
    {
     "data": {
      "text/plain": [
       "Index([u'RegionName', u'City', u'State', u'Metro', u'CountyName', u'SizeRank',\n",
       "       u'_2010_02', u'_2010_03', u'_2010_04', u'_2010_05', u'_2010_06',\n",
       "       u'_2010_07', u'_2010_08', u'_2010_09', u'_2010_10', u'_2010_11',\n",
       "       u'_2010_12', u'_2011_01', u'_2011_02', u'_2011_03', u'_2011_04',\n",
       "       u'_2011_05', u'_2011_06', u'_2011_07', u'_2011_08', u'_2011_09',\n",
       "       u'_2011_10', u'_2011_11', u'_2011_12', u'_2012_01', u'_2012_02',\n",
       "       u'_2012_03', u'_2012_04', u'_2012_05', u'_2012_06', u'_2012_07',\n",
       "       u'_2012_08', u'_2012_09', u'_2012_10', u'_2012_11', u'_2012_12',\n",
       "       u'_2013_01', u'_2013_02', u'_2013_03', u'_2013_04', u'_2013_05',\n",
       "       u'_2013_06', u'_2013_07', u'_2013_08', u'_2013_09', u'_2013_10',\n",
       "       u'_2013_11', u'_2013_12', u'_2014_01', u'_2014_02', u'_2014_03',\n",
       "       u'_2014_04', u'_2014_05', u'_2014_06', u'_2014_07', u'_2014_08',\n",
       "       u'_2014_09', u'_2014_10', u'_2014_11', u'_2014_12', u'_2015_01',\n",
       "       u'_2015_02', u'_2015_03', u'_2015_04', u'_2015_05', u'_2015_06',\n",
       "       u'_2015_07', u'_2015_08', u'_2015_09', u'_2015_10', u'_2015_11',\n",
       "       u'_2015_12', u'_2016_01', u'_2016_02', u'_2016_03', u'_2016_04',\n",
       "       u'_2016_05', u'_2016_06', u'_2016_07', u'_2016_08', u'_2016_09',\n",
       "       u'_2016_10', u'_2016_11', u'_2016_12', u'_2017_01', u'kind'],\n",
       "      dtype='object')"
      ]
     },
     "execution_count": 46,
     "metadata": {},
     "output_type": "execute_result"
    }
   ],
   "source": [
    "br2_zip = br2_zip[[u'RegionName', u'City', u'State', u'Metro', u'CountyName', u'SizeRank',,\n",
    "         u'_2016_01', u'_2016_02', u'_2016_03', u'_2016_04',\n",
    "       u'_2016_05', u'_2016_06', u'_2016_07', u'_2016_08', u'_2016_09',\n",
    "       u'_2016_10', u'_2016_11', u'_2016_12', u'_2017_01', u'kind']]"
   ]
  },
  {
   "cell_type": "code",
   "execution_count": 26,
   "metadata": {
    "collapsed": false
   },
   "outputs": [
    {
     "name": "stdout",
     "output_type": "stream",
     "text": [
      "Requesting query... ok.\n",
      "Query running...\n",
      "Query done.\n",
      "Cache hit.\n",
      "\n",
      "Retrieving results...\n",
      "Got 424 rows.\n",
      "\n",
      "Total time taken 1.3 s.\n",
      "Finished at 2017-03-25 13:06:02.\n"
     ]
    }
   ],
   "source": [
    "sample_query = \"SELECT * FROM `smart_cities_data.median_rents_zipcode_1br`\"  \n",
    "br1_zip = read_gbq(query=sample_query, project_id=project, dialect='standard')\n",
    "br1_zip['kind'] = 'br1'"
   ]
  },
  {
   "cell_type": "code",
   "execution_count": 30,
   "metadata": {
    "collapsed": false,
    "scrolled": true
   },
   "outputs": [
    {
     "name": "stdout",
     "output_type": "stream",
     "text": [
      "Requesting query... ok.\n",
      "Query running...\n",
      "Query done.\n",
      "Cache hit.\n",
      "\n",
      "Retrieving results...\n",
      "Got 619 rows.\n",
      "\n",
      "Total time taken 1.59 s.\n",
      "Finished at 2017-03-25 13:06:59.\n"
     ]
    },
    {
     "data": {
      "text/plain": [
       "(619, 91)"
      ]
     },
     "execution_count": 30,
     "metadata": {},
     "output_type": "execute_result"
    }
   ],
   "source": [
    "sample_query = \"SELECT * FROM `smart_cities_data.median_rents_zipcode_2br`\"  \n",
    "br2_zip = read_gbq(query=sample_query, project_id=project, dialect='standard')\n",
    "br2_zip['kind'] = 'br2'\n",
    "br2_zip.shape"
   ]
  },
  {
   "cell_type": "code",
   "execution_count": 48,
   "metadata": {
    "collapsed": false
   },
   "outputs": [],
   "source": [
    "br2_zip = br2_zip[[u'RegionName', u'City', u'State', u'Metro', u'CountyName', u'SizeRank',\n",
    "         u'_2016_01', u'_2016_02', u'_2016_03', u'_2016_04',\n",
    "       u'_2016_05', u'_2016_06', u'_2016_07', u'_2016_08', u'_2016_09',\n",
    "       u'_2016_10', u'_2016_11', u'_2016_12', u'_2017_01', u'kind']]"
   ]
  },
  {
   "cell_type": "code",
   "execution_count": 49,
   "metadata": {
    "collapsed": true
   },
   "outputs": [],
   "source": [
    "br1_zip = br1_zip[[u'RegionName', u'City', u'State', u'Metro', u'CountyName', u'SizeRank',\n",
    "         u'_2016_01', u'_2016_02', u'_2016_03', u'_2016_04',\n",
    "       u'_2016_05', u'_2016_06', u'_2016_07', u'_2016_08', u'_2016_09',\n",
    "       u'_2016_10', u'_2016_11', u'_2016_12', u'_2017_01', u'kind']]"
   ]
  },
  {
   "cell_type": "code",
   "execution_count": 52,
   "metadata": {
    "collapsed": false
   },
   "outputs": [],
   "source": [
    "studio_zip = studio_zip[[u'RegionName', u'City', u'State', u'Metro', u'CountyName', u'SizeRank',\n",
    "         u'_2016_01', u'_2016_02', u'_2016_03', u'_2016_04',\n",
    "       u'_2016_05', u'_2016_06', u'_2016_07', u'_2016_08', u'_2016_09',\n",
    "       u'_2016_10', u'_2016_11', u'_2016_12', u'_2017_01', u'kind']]"
   ]
  },
  {
   "cell_type": "code",
   "execution_count": 53,
   "metadata": {
    "collapsed": false
   },
   "outputs": [],
   "source": [
    "apt_types = pd.concat([br2_zip, br1_zip, studio_zip])"
   ]
  },
  {
   "cell_type": "code",
   "execution_count": 54,
   "metadata": {
    "collapsed": false
   },
   "outputs": [],
   "source": [
    "nyc_apts = apt_types[apt_types.RegionName.isin(zipcodes_nyc)]"
   ]
  },
  {
   "cell_type": "code",
   "execution_count": 55,
   "metadata": {
    "collapsed": false
   },
   "outputs": [
    {
     "data": {
      "text/plain": [
       "br1       102\n",
       "br2        95\n",
       "studio     49\n",
       "Name: kind, dtype: int64"
      ]
     },
     "execution_count": 55,
     "metadata": {},
     "output_type": "execute_result"
    }
   ],
   "source": [
    "nyc_apts.kind.value_counts()"
   ]
  },
  {
   "cell_type": "code",
   "execution_count": null,
   "metadata": {
    "collapsed": true
   },
   "outputs": [],
   "source": []
  }
 ],
 "metadata": {
  "kernelspec": {
   "display_name": "Python 2",
   "language": "python",
   "name": "python2"
  },
  "language_info": {
   "codemirror_mode": {
    "name": "ipython",
    "version": 2
   },
   "file_extension": ".py",
   "mimetype": "text/x-python",
   "name": "python",
   "nbconvert_exporter": "python",
   "pygments_lexer": "ipython2",
   "version": "2.7.10"
  }
 },
 "nbformat": 4,
 "nbformat_minor": 2
}
