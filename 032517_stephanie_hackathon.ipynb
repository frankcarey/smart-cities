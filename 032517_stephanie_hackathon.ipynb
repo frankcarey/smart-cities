{
 "cells": [
  {
   "cell_type": "code",
   "execution_count": 1,
   "metadata": {
    "collapsed": true
   },
   "outputs": [],
   "source": [
    "from pandas.io.gbq import read_gbq"
   ]
  },
  {
   "cell_type": "code",
   "execution_count": 2,
   "metadata": {
    "collapsed": false
   },
   "outputs": [
    {
     "name": "stdout",
     "output_type": "stream",
     "text": [
      "\n",
      "Your browser has been opened to visit:\n",
      "\n",
      "    https://accounts.google.com/o/oauth2/v2/auth?scope=https%3A%2F%2Fwww.googleapis.com%2Fauth%2Fbigquery&redirect_uri=http%3A%2F%2Flocalhost%3A8080%2F&response_type=code&client_id=495642085510-k0tmvj2m941jhre2nbqka17vqpjfddtd.apps.googleusercontent.com&access_type=offline\n",
      "\n",
      "If your browser is on a different machine then exit and re-run this\n",
      "application with the command-line parameter\n",
      "\n",
      "  --noauth_local_webserver\n",
      "\n",
      "Authentication successful.\n",
      "Requesting query... ok.\n",
      "Query running...\n",
      "Query done.\n",
      "Cache hit.\n",
      "\n",
      "Retrieving results...\n",
      "Got 10 rows.\n",
      "\n",
      "Total time taken 1.21 s.\n",
      "Finished at 2017-03-25 12:58:11.\n"
     ]
    },
    {
     "name": "stderr",
     "output_type": "stream",
     "text": [
      "/usr/local/lib/python2.7/site-packages/oauth2client/_helpers.py:255: UserWarning: Cannot access bigquery_credentials.dat: No such file or directory\n",
      "  warnings.warn(_MISSING_FILE_MESSAGE.format(filename))\n"
     ]
    }
   ],
   "source": [
    "project = \"spheric-crow-161317\"\n",
    "sample_query = \"SELECT * FROM `smart_cities_data.mit_streetscore` LIMIT 10\"\n",
    "\n",
    "df = read_gbq(query=sample_query, project_id=project, dialect='standard')"
   ]
  },
  {
   "cell_type": "code",
   "execution_count": 5,
   "metadata": {
    "collapsed": false
   },
   "outputs": [
    {
     "name": "stdout",
     "output_type": "stream",
     "text": [
      "Requesting query... ok.\n",
      "Query running...\n",
      "Query done.\n",
      "Processed: 8.9 Gb\n",
      "\n",
      "Retrieving results...\n",
      "Got 10 rows.\n",
      "\n",
      "Total time taken 3.31 s.\n",
      "Finished at 2017-03-25 11:21:23.\n"
     ]
    }
   ],
   "source": [
    "project = \"spheric-crow-161317\"\n",
    "sample_query = \"SELECT * FROM `bigquery-public-data.new_york.tlc_yellow_trips_2016` LIMIT 10\"\n",
    "\n",
    "df = read_gbq(query=sample_query, project_id=project, dialect='standard')\n"
   ]
  },
  {
   "cell_type": "code",
   "execution_count": 6,
   "metadata": {
    "collapsed": false
   },
   "outputs": [
    {
     "data": {
      "text/html": [
       "<div>\n",
       "<table border=\"1\" class=\"dataframe\">\n",
       "  <thead>\n",
       "    <tr style=\"text-align: right;\">\n",
       "      <th></th>\n",
       "      <th>vendor_id</th>\n",
       "      <th>pickup_datetime</th>\n",
       "      <th>dropoff_datetime</th>\n",
       "      <th>passenger_count</th>\n",
       "      <th>trip_distance</th>\n",
       "      <th>pickup_longitude</th>\n",
       "      <th>pickup_latitude</th>\n",
       "      <th>rate_code</th>\n",
       "      <th>store_and_fwd_flag</th>\n",
       "      <th>dropoff_longitude</th>\n",
       "      <th>dropoff_latitude</th>\n",
       "      <th>payment_type</th>\n",
       "      <th>fare_amount</th>\n",
       "      <th>extra</th>\n",
       "      <th>mta_tax</th>\n",
       "      <th>tip_amount</th>\n",
       "      <th>tolls_amount</th>\n",
       "      <th>imp_surcharge</th>\n",
       "      <th>total_amount</th>\n",
       "    </tr>\n",
       "  </thead>\n",
       "  <tbody>\n",
       "    <tr>\n",
       "      <th>0</th>\n",
       "      <td>1</td>\n",
       "      <td>2016-06-05 04:51:16</td>\n",
       "      <td>2016-06-05 05:14:02</td>\n",
       "      <td>1</td>\n",
       "      <td>10.5</td>\n",
       "      <td>-73.997444</td>\n",
       "      <td>40.716759</td>\n",
       "      <td>1</td>\n",
       "      <td>N</td>\n",
       "      <td>-73.864502</td>\n",
       "      <td>40.757748</td>\n",
       "      <td>2</td>\n",
       "      <td>31.0</td>\n",
       "      <td>0.5</td>\n",
       "      <td>0.5</td>\n",
       "      <td>0.00</td>\n",
       "      <td>0</td>\n",
       "      <td>0.3</td>\n",
       "      <td>32.30</td>\n",
       "    </tr>\n",
       "    <tr>\n",
       "      <th>1</th>\n",
       "      <td>1</td>\n",
       "      <td>2016-03-13 19:26:50</td>\n",
       "      <td>2016-03-13 19:47:27</td>\n",
       "      <td>1</td>\n",
       "      <td>3.2</td>\n",
       "      <td>-73.997116</td>\n",
       "      <td>40.742077</td>\n",
       "      <td>1</td>\n",
       "      <td>N</td>\n",
       "      <td>-74.014053</td>\n",
       "      <td>40.708397</td>\n",
       "      <td>2</td>\n",
       "      <td>15.0</td>\n",
       "      <td>0.0</td>\n",
       "      <td>0.5</td>\n",
       "      <td>0.00</td>\n",
       "      <td>0</td>\n",
       "      <td>0.3</td>\n",
       "      <td>15.80</td>\n",
       "    </tr>\n",
       "    <tr>\n",
       "      <th>2</th>\n",
       "      <td>1</td>\n",
       "      <td>2016-04-11 12:14:41</td>\n",
       "      <td>2016-04-11 12:17:55</td>\n",
       "      <td>1</td>\n",
       "      <td>0.3</td>\n",
       "      <td>-73.955269</td>\n",
       "      <td>40.779583</td>\n",
       "      <td>1</td>\n",
       "      <td>N</td>\n",
       "      <td>-73.956703</td>\n",
       "      <td>40.782513</td>\n",
       "      <td>2</td>\n",
       "      <td>4.0</td>\n",
       "      <td>0.0</td>\n",
       "      <td>0.5</td>\n",
       "      <td>0.00</td>\n",
       "      <td>0</td>\n",
       "      <td>0.3</td>\n",
       "      <td>4.80</td>\n",
       "    </tr>\n",
       "    <tr>\n",
       "      <th>3</th>\n",
       "      <td>1</td>\n",
       "      <td>2016-01-19 20:05:37</td>\n",
       "      <td>2016-01-19 20:11:21</td>\n",
       "      <td>1</td>\n",
       "      <td>1.1</td>\n",
       "      <td>-73.955162</td>\n",
       "      <td>40.777180</td>\n",
       "      <td>1</td>\n",
       "      <td>N</td>\n",
       "      <td>-73.970436</td>\n",
       "      <td>40.785828</td>\n",
       "      <td>1</td>\n",
       "      <td>6.0</td>\n",
       "      <td>0.5</td>\n",
       "      <td>0.5</td>\n",
       "      <td>1.00</td>\n",
       "      <td>0</td>\n",
       "      <td>0.3</td>\n",
       "      <td>8.30</td>\n",
       "    </tr>\n",
       "    <tr>\n",
       "      <th>4</th>\n",
       "      <td>1</td>\n",
       "      <td>2016-04-27 20:16:15</td>\n",
       "      <td>2016-04-27 20:20:32</td>\n",
       "      <td>1</td>\n",
       "      <td>0.8</td>\n",
       "      <td>-73.925613</td>\n",
       "      <td>40.759056</td>\n",
       "      <td>1</td>\n",
       "      <td>N</td>\n",
       "      <td>-73.913902</td>\n",
       "      <td>40.761189</td>\n",
       "      <td>1</td>\n",
       "      <td>5.0</td>\n",
       "      <td>0.5</td>\n",
       "      <td>0.5</td>\n",
       "      <td>1.25</td>\n",
       "      <td>0</td>\n",
       "      <td>0.3</td>\n",
       "      <td>7.55</td>\n",
       "    </tr>\n",
       "  </tbody>\n",
       "</table>\n",
       "</div>"
      ],
      "text/plain": [
       "  vendor_id     pickup_datetime    dropoff_datetime  passenger_count  \\\n",
       "0         1 2016-06-05 04:51:16 2016-06-05 05:14:02                1   \n",
       "1         1 2016-03-13 19:26:50 2016-03-13 19:47:27                1   \n",
       "2         1 2016-04-11 12:14:41 2016-04-11 12:17:55                1   \n",
       "3         1 2016-01-19 20:05:37 2016-01-19 20:11:21                1   \n",
       "4         1 2016-04-27 20:16:15 2016-04-27 20:20:32                1   \n",
       "\n",
       "   trip_distance  pickup_longitude  pickup_latitude  rate_code  \\\n",
       "0           10.5        -73.997444        40.716759          1   \n",
       "1            3.2        -73.997116        40.742077          1   \n",
       "2            0.3        -73.955269        40.779583          1   \n",
       "3            1.1        -73.955162        40.777180          1   \n",
       "4            0.8        -73.925613        40.759056          1   \n",
       "\n",
       "  store_and_fwd_flag  dropoff_longitude  dropoff_latitude payment_type  \\\n",
       "0                  N         -73.864502         40.757748            2   \n",
       "1                  N         -74.014053         40.708397            2   \n",
       "2                  N         -73.956703         40.782513            2   \n",
       "3                  N         -73.970436         40.785828            1   \n",
       "4                  N         -73.913902         40.761189            1   \n",
       "\n",
       "   fare_amount  extra  mta_tax  tip_amount  tolls_amount  imp_surcharge  \\\n",
       "0         31.0    0.5      0.5        0.00             0            0.3   \n",
       "1         15.0    0.0      0.5        0.00             0            0.3   \n",
       "2          4.0    0.0      0.5        0.00             0            0.3   \n",
       "3          6.0    0.5      0.5        1.00             0            0.3   \n",
       "4          5.0    0.5      0.5        1.25             0            0.3   \n",
       "\n",
       "   total_amount  \n",
       "0         32.30  \n",
       "1         15.80  \n",
       "2          4.80  \n",
       "3          8.30  \n",
       "4          7.55  "
      ]
     },
     "execution_count": 6,
     "metadata": {},
     "output_type": "execute_result"
    }
   ],
   "source": [
    "df.head()"
   ]
  },
  {
   "cell_type": "code",
   "execution_count": 2,
   "metadata": {
    "collapsed": false
   },
   "outputs": [
    {
     "name": "stdout",
     "output_type": "stream",
     "text": [
      "Populating the interactive namespace from numpy and matplotlib\n"
     ]
    }
   ],
   "source": [
    "\n",
    "from __future__ import print_function, division\n",
    "\n",
    "#importing pandas for reading and parsing of tabulated data\n",
    "import pandas as pd\n",
    "#importing geopandas read to plot geographical information\n",
    "import geopandas as gpd\n",
    "#importing fiona to handle geographical coordinates\n",
    "import fiona\n",
    "#import shapely to handle geographical shapes\n",
    "import shapely\n",
    "\n",
    "import pylab as pl\n",
    "%pylab inline"
   ]
  },
  {
   "cell_type": "code",
   "execution_count": 10,
   "metadata": {
    "collapsed": false
   },
   "outputs": [
    {
     "name": "stdout",
     "output_type": "stream",
     "text": [
      "Requesting query... ok.\n",
      "Query running...\n",
      "Query done.\n",
      "Cache hit.\n",
      "\n",
      "Retrieving results...\n",
      "Got 10 rows.\n",
      "\n",
      "Total time taken 0.91 s.\n",
      "Finished at 2017-03-25 11:33:06.\n"
     ]
    }
   ],
   "source": [
    "project = \"spheric-crow-161317\"\n",
    "sample_query = \"SELECT * FROM `smart_cities_data.NYC_MTA_stations` LIMIT 10\"\n",
    "\n",
    "dfstations = read_gbq(query=sample_query, project_id=project, dialect='standard')\n"
   ]
  },
  {
   "cell_type": "code",
   "execution_count": 12,
   "metadata": {
    "collapsed": false,
    "scrolled": true
   },
   "outputs": [
    {
     "data": {
      "text/html": [
       "<div>\n",
       "<table border=\"1\" class=\"dataframe\">\n",
       "  <thead>\n",
       "    <tr style=\"text-align: right;\">\n",
       "      <th></th>\n",
       "      <th>Division</th>\n",
       "      <th>Line</th>\n",
       "      <th>Station_Name</th>\n",
       "      <th>Station_Latitude</th>\n",
       "      <th>Station_Longitude</th>\n",
       "      <th>Route1</th>\n",
       "      <th>Route2</th>\n",
       "      <th>Route3</th>\n",
       "      <th>Route4</th>\n",
       "      <th>Route5</th>\n",
       "      <th>...</th>\n",
       "      <th>ADA</th>\n",
       "      <th>ADA_Notes</th>\n",
       "      <th>Free_Crossover</th>\n",
       "      <th>North_South_Street</th>\n",
       "      <th>East_West_Street</th>\n",
       "      <th>Corner</th>\n",
       "      <th>Entrance_Latitude</th>\n",
       "      <th>Entrance_Longitude</th>\n",
       "      <th>Station_Location</th>\n",
       "      <th>Entrance_Location</th>\n",
       "    </tr>\n",
       "  </thead>\n",
       "  <tbody>\n",
       "    <tr>\n",
       "      <th>0</th>\n",
       "      <td>BMT</td>\n",
       "      <td>4 Avenue</td>\n",
       "      <td>25th St</td>\n",
       "      <td>40.660397</td>\n",
       "      <td>-73.998091</td>\n",
       "      <td>R</td>\n",
       "      <td>None</td>\n",
       "      <td>None</td>\n",
       "      <td>None</td>\n",
       "      <td>None</td>\n",
       "      <td>...</td>\n",
       "      <td>False</td>\n",
       "      <td>None</td>\n",
       "      <td>False</td>\n",
       "      <td>4th Ave</td>\n",
       "      <td>25th St</td>\n",
       "      <td>SE</td>\n",
       "      <td>40.660323</td>\n",
       "      <td>-73.997952</td>\n",
       "      <td>(40.660397, -73.998091)</td>\n",
       "      <td>(40.660323, -73.997952)</td>\n",
       "    </tr>\n",
       "    <tr>\n",
       "      <th>1</th>\n",
       "      <td>BMT</td>\n",
       "      <td>4 Avenue</td>\n",
       "      <td>25th St</td>\n",
       "      <td>40.660397</td>\n",
       "      <td>-73.998091</td>\n",
       "      <td>R</td>\n",
       "      <td>None</td>\n",
       "      <td>None</td>\n",
       "      <td>None</td>\n",
       "      <td>None</td>\n",
       "      <td>...</td>\n",
       "      <td>False</td>\n",
       "      <td>None</td>\n",
       "      <td>False</td>\n",
       "      <td>4th Ave</td>\n",
       "      <td>25th St</td>\n",
       "      <td>SW</td>\n",
       "      <td>40.660489</td>\n",
       "      <td>-73.998220</td>\n",
       "      <td>(40.660397, -73.998091)</td>\n",
       "      <td>(40.660489, -73.998220)</td>\n",
       "    </tr>\n",
       "    <tr>\n",
       "      <th>2</th>\n",
       "      <td>BMT</td>\n",
       "      <td>4 Avenue</td>\n",
       "      <td>45th St</td>\n",
       "      <td>40.648939</td>\n",
       "      <td>-74.010006</td>\n",
       "      <td>R</td>\n",
       "      <td>None</td>\n",
       "      <td>None</td>\n",
       "      <td>None</td>\n",
       "      <td>None</td>\n",
       "      <td>...</td>\n",
       "      <td>False</td>\n",
       "      <td>None</td>\n",
       "      <td>True</td>\n",
       "      <td>4th Ave</td>\n",
       "      <td>45th St</td>\n",
       "      <td>NE</td>\n",
       "      <td>40.649265</td>\n",
       "      <td>-74.009457</td>\n",
       "      <td>(40.648939, -74.010006)</td>\n",
       "      <td>(40.649265, -74.009457)</td>\n",
       "    </tr>\n",
       "    <tr>\n",
       "      <th>3</th>\n",
       "      <td>BMT</td>\n",
       "      <td>4 Avenue</td>\n",
       "      <td>45th St</td>\n",
       "      <td>40.648939</td>\n",
       "      <td>-74.010006</td>\n",
       "      <td>R</td>\n",
       "      <td>None</td>\n",
       "      <td>None</td>\n",
       "      <td>None</td>\n",
       "      <td>None</td>\n",
       "      <td>...</td>\n",
       "      <td>False</td>\n",
       "      <td>None</td>\n",
       "      <td>True</td>\n",
       "      <td>4th Ave</td>\n",
       "      <td>45th St</td>\n",
       "      <td>NE</td>\n",
       "      <td>40.649389</td>\n",
       "      <td>-74.009333</td>\n",
       "      <td>(40.648939, -74.010006)</td>\n",
       "      <td>(40.649389, -74.009333)</td>\n",
       "    </tr>\n",
       "    <tr>\n",
       "      <th>4</th>\n",
       "      <td>BMT</td>\n",
       "      <td>4 Avenue</td>\n",
       "      <td>45th St</td>\n",
       "      <td>40.648939</td>\n",
       "      <td>-74.010006</td>\n",
       "      <td>R</td>\n",
       "      <td>None</td>\n",
       "      <td>None</td>\n",
       "      <td>None</td>\n",
       "      <td>None</td>\n",
       "      <td>...</td>\n",
       "      <td>False</td>\n",
       "      <td>None</td>\n",
       "      <td>True</td>\n",
       "      <td>4th Ave</td>\n",
       "      <td>45th St</td>\n",
       "      <td>NW</td>\n",
       "      <td>40.649546</td>\n",
       "      <td>-74.009602</td>\n",
       "      <td>(40.648939, -74.010006)</td>\n",
       "      <td>(40.649546, -74.009602)</td>\n",
       "    </tr>\n",
       "    <tr>\n",
       "      <th>5</th>\n",
       "      <td>BMT</td>\n",
       "      <td>4 Avenue</td>\n",
       "      <td>45th St</td>\n",
       "      <td>40.648939</td>\n",
       "      <td>-74.010006</td>\n",
       "      <td>R</td>\n",
       "      <td>None</td>\n",
       "      <td>None</td>\n",
       "      <td>None</td>\n",
       "      <td>None</td>\n",
       "      <td>...</td>\n",
       "      <td>False</td>\n",
       "      <td>None</td>\n",
       "      <td>True</td>\n",
       "      <td>4th Ave</td>\n",
       "      <td>45th St</td>\n",
       "      <td>NW</td>\n",
       "      <td>40.649424</td>\n",
       "      <td>-74.009728</td>\n",
       "      <td>(40.648939, -74.010006)</td>\n",
       "      <td>(40.649424, -74.009728)</td>\n",
       "    </tr>\n",
       "    <tr>\n",
       "      <th>6</th>\n",
       "      <td>BMT</td>\n",
       "      <td>4 Avenue</td>\n",
       "      <td>53rd St</td>\n",
       "      <td>40.645069</td>\n",
       "      <td>-74.014034</td>\n",
       "      <td>R</td>\n",
       "      <td>None</td>\n",
       "      <td>None</td>\n",
       "      <td>None</td>\n",
       "      <td>None</td>\n",
       "      <td>...</td>\n",
       "      <td>False</td>\n",
       "      <td>None</td>\n",
       "      <td>True</td>\n",
       "      <td>4th Ave</td>\n",
       "      <td>53rd St</td>\n",
       "      <td>SW</td>\n",
       "      <td>40.644653</td>\n",
       "      <td>-74.014690</td>\n",
       "      <td>(40.645069, -74.014034)</td>\n",
       "      <td>(40.644653, -74.014690)</td>\n",
       "    </tr>\n",
       "    <tr>\n",
       "      <th>7</th>\n",
       "      <td>BMT</td>\n",
       "      <td>4 Avenue</td>\n",
       "      <td>53rd St</td>\n",
       "      <td>40.645069</td>\n",
       "      <td>-74.014034</td>\n",
       "      <td>R</td>\n",
       "      <td>None</td>\n",
       "      <td>None</td>\n",
       "      <td>None</td>\n",
       "      <td>None</td>\n",
       "      <td>...</td>\n",
       "      <td>False</td>\n",
       "      <td>None</td>\n",
       "      <td>True</td>\n",
       "      <td>4th Ave</td>\n",
       "      <td>53rd St</td>\n",
       "      <td>SE</td>\n",
       "      <td>40.644493</td>\n",
       "      <td>-74.014419</td>\n",
       "      <td>(40.645069, -74.014034)</td>\n",
       "      <td>(40.644493, -74.014419)</td>\n",
       "    </tr>\n",
       "    <tr>\n",
       "      <th>8</th>\n",
       "      <td>IND</td>\n",
       "      <td>Rockaway</td>\n",
       "      <td>Broad Channel</td>\n",
       "      <td>40.608382</td>\n",
       "      <td>-73.815925</td>\n",
       "      <td>A</td>\n",
       "      <td>H</td>\n",
       "      <td>None</td>\n",
       "      <td>None</td>\n",
       "      <td>None</td>\n",
       "      <td>...</td>\n",
       "      <td>False</td>\n",
       "      <td>None</td>\n",
       "      <td>True</td>\n",
       "      <td>West Rd</td>\n",
       "      <td>Noel Rd</td>\n",
       "      <td>NE</td>\n",
       "      <td>40.608007</td>\n",
       "      <td>-73.815967</td>\n",
       "      <td>(40.608382, -73.815925)</td>\n",
       "      <td>(40.608007, -73.815967)</td>\n",
       "    </tr>\n",
       "    <tr>\n",
       "      <th>9</th>\n",
       "      <td>BMT</td>\n",
       "      <td>Franklin</td>\n",
       "      <td>Franklin Av</td>\n",
       "      <td>40.680596</td>\n",
       "      <td>-73.955827</td>\n",
       "      <td>A</td>\n",
       "      <td>FS</td>\n",
       "      <td>None</td>\n",
       "      <td>None</td>\n",
       "      <td>None</td>\n",
       "      <td>...</td>\n",
       "      <td>True</td>\n",
       "      <td>None</td>\n",
       "      <td>True</td>\n",
       "      <td>Franklin Ave</td>\n",
       "      <td>Fulton St</td>\n",
       "      <td>SW</td>\n",
       "      <td>40.681051</td>\n",
       "      <td>-73.955840</td>\n",
       "      <td>(40.680596, -73.955827)</td>\n",
       "      <td>(40.681051, -73.955840)</td>\n",
       "    </tr>\n",
       "  </tbody>\n",
       "</table>\n",
       "<p>10 rows × 32 columns</p>\n",
       "</div>"
      ],
      "text/plain": [
       "  Division      Line   Station_Name  Station_Latitude  Station_Longitude  \\\n",
       "0      BMT  4 Avenue        25th St         40.660397         -73.998091   \n",
       "1      BMT  4 Avenue        25th St         40.660397         -73.998091   \n",
       "2      BMT  4 Avenue        45th St         40.648939         -74.010006   \n",
       "3      BMT  4 Avenue        45th St         40.648939         -74.010006   \n",
       "4      BMT  4 Avenue        45th St         40.648939         -74.010006   \n",
       "5      BMT  4 Avenue        45th St         40.648939         -74.010006   \n",
       "6      BMT  4 Avenue        53rd St         40.645069         -74.014034   \n",
       "7      BMT  4 Avenue        53rd St         40.645069         -74.014034   \n",
       "8      IND  Rockaway  Broad Channel         40.608382         -73.815925   \n",
       "9      BMT  Franklin    Franklin Av         40.680596         -73.955827   \n",
       "\n",
       "  Route1 Route2 Route3 Route4 Route5           ...               ADA  \\\n",
       "0      R   None   None   None   None           ...             False   \n",
       "1      R   None   None   None   None           ...             False   \n",
       "2      R   None   None   None   None           ...             False   \n",
       "3      R   None   None   None   None           ...             False   \n",
       "4      R   None   None   None   None           ...             False   \n",
       "5      R   None   None   None   None           ...             False   \n",
       "6      R   None   None   None   None           ...             False   \n",
       "7      R   None   None   None   None           ...             False   \n",
       "8      A      H   None   None   None           ...             False   \n",
       "9      A     FS   None   None   None           ...              True   \n",
       "\n",
       "  ADA_Notes  Free_Crossover  North_South_Street  East_West_Street  Corner  \\\n",
       "0      None           False             4th Ave           25th St      SE   \n",
       "1      None           False             4th Ave           25th St      SW   \n",
       "2      None            True             4th Ave           45th St      NE   \n",
       "3      None            True             4th Ave           45th St      NE   \n",
       "4      None            True             4th Ave           45th St      NW   \n",
       "5      None            True             4th Ave           45th St      NW   \n",
       "6      None            True             4th Ave           53rd St      SW   \n",
       "7      None            True             4th Ave           53rd St      SE   \n",
       "8      None            True             West Rd           Noel Rd      NE   \n",
       "9      None            True        Franklin Ave         Fulton St      SW   \n",
       "\n",
       "  Entrance_Latitude Entrance_Longitude         Station_Location  \\\n",
       "0         40.660323         -73.997952  (40.660397, -73.998091)   \n",
       "1         40.660489         -73.998220  (40.660397, -73.998091)   \n",
       "2         40.649265         -74.009457  (40.648939, -74.010006)   \n",
       "3         40.649389         -74.009333  (40.648939, -74.010006)   \n",
       "4         40.649546         -74.009602  (40.648939, -74.010006)   \n",
       "5         40.649424         -74.009728  (40.648939, -74.010006)   \n",
       "6         40.644653         -74.014690  (40.645069, -74.014034)   \n",
       "7         40.644493         -74.014419  (40.645069, -74.014034)   \n",
       "8         40.608007         -73.815967  (40.608382, -73.815925)   \n",
       "9         40.681051         -73.955840  (40.680596, -73.955827)   \n",
       "\n",
       "         Entrance_Location  \n",
       "0  (40.660323, -73.997952)  \n",
       "1  (40.660489, -73.998220)  \n",
       "2  (40.649265, -74.009457)  \n",
       "3  (40.649389, -74.009333)  \n",
       "4  (40.649546, -74.009602)  \n",
       "5  (40.649424, -74.009728)  \n",
       "6  (40.644653, -74.014690)  \n",
       "7  (40.644493, -74.014419)  \n",
       "8  (40.608007, -73.815967)  \n",
       "9  (40.681051, -73.955840)  \n",
       "\n",
       "[10 rows x 32 columns]"
      ]
     },
     "execution_count": 12,
     "metadata": {},
     "output_type": "execute_result"
    }
   ],
   "source": [
    "dfstations.head(20)"
   ]
  },
  {
   "cell_type": "code",
   "execution_count": 3,
   "metadata": {
    "collapsed": false
   },
   "outputs": [
    {
     "name": "stderr",
     "output_type": "stream",
     "text": [
      "WARNING:googleapiclient.discovery_cache:file_cache is unavailable when using oauth2client >= 4.0.0\n",
      "Traceback (most recent call last):\n",
      "  File \"/usr/local/lib/python2.7/site-packages/googleapiclient/discovery_cache/__init__.py\", line 41, in autodetect\n",
      "    from . import file_cache\n",
      "  File \"/usr/local/lib/python2.7/site-packages/googleapiclient/discovery_cache/file_cache.py\", line 41, in <module>\n",
      "    'file_cache is unavailable when using oauth2client >= 4.0.0')\n",
      "ImportError: file_cache is unavailable when using oauth2client >= 4.0.0\n"
     ]
    },
    {
     "name": "stdout",
     "output_type": "stream",
     "text": [
      "Requesting query... ok.\n",
      "Query running...\n",
      "Query done.\n",
      "Cache hit.\n",
      "\n",
      "Retrieving results...\n",
      "Got 87 rows.\n",
      "\n",
      "Total time taken 1.12 s.\n",
      "Finished at 2017-03-25 14:14:23.\n"
     ]
    },
    {
     "name": "stderr",
     "output_type": "stream",
     "text": [
      "WARNING:googleapiclient.discovery_cache:file_cache is unavailable when using oauth2client >= 4.0.0\n",
      "Traceback (most recent call last):\n",
      "  File \"/usr/local/lib/python2.7/site-packages/googleapiclient/discovery_cache/__init__.py\", line 41, in autodetect\n",
      "    from . import file_cache\n",
      "  File \"/usr/local/lib/python2.7/site-packages/googleapiclient/discovery_cache/file_cache.py\", line 41, in <module>\n",
      "    'file_cache is unavailable when using oauth2client >= 4.0.0')\n",
      "ImportError: file_cache is unavailable when using oauth2client >= 4.0.0\n"
     ]
    },
    {
     "name": "stdout",
     "output_type": "stream",
     "text": [
      "Requesting query... ok.\n",
      "Query running...\n",
      "Query done.\n",
      "Cache hit.\n",
      "\n",
      "Retrieving results...\n",
      "Got 424 rows.\n",
      "\n",
      "Total time taken 1.3 s.\n",
      "Finished at 2017-03-25 14:14:27.\n"
     ]
    },
    {
     "name": "stderr",
     "output_type": "stream",
     "text": [
      "WARNING:googleapiclient.discovery_cache:file_cache is unavailable when using oauth2client >= 4.0.0\n",
      "Traceback (most recent call last):\n",
      "  File \"/usr/local/lib/python2.7/site-packages/googleapiclient/discovery_cache/__init__.py\", line 41, in autodetect\n",
      "    from . import file_cache\n",
      "  File \"/usr/local/lib/python2.7/site-packages/googleapiclient/discovery_cache/file_cache.py\", line 41, in <module>\n",
      "    'file_cache is unavailable when using oauth2client >= 4.0.0')\n",
      "ImportError: file_cache is unavailable when using oauth2client >= 4.0.0\n"
     ]
    },
    {
     "name": "stdout",
     "output_type": "stream",
     "text": [
      "Requesting query... ok.\n",
      "Query running...\n",
      "Query done.\n",
      "Cache hit.\n",
      "\n",
      "Retrieving results...\n",
      "Got 619 rows.\n",
      "\n",
      "Total time taken 1.63 s.\n",
      "Finished at 2017-03-25 14:14:29.\n"
     ]
    }
   ],
   "source": [
    "project = \"spheric-crow-161317\"\n",
    "studio = \"SELECT * FROM `smart_cities_data.median_rents_zipcode_studio` \"\n",
    "onebr   = \"SELECT * FROM    `smart_cities_data.median_rents_zipcode_1br`\"\n",
    "twobr = \"SELECT * FROM `smart_cities_data.median_rents_zipcode_2br`\"\n",
    "\n",
    "dfstudio = read_gbq(query=studio, project_id=project, dialect='standard')\n",
    "dfonebr = read_gbq(query=onebr, project_id=project, dialect='standard')\n",
    "dftwobr = read_gbq(query=twobr, project_id=project, dialect='standard')\n"
   ]
  },
  {
   "cell_type": "code",
   "execution_count": 29,
   "metadata": {
    "collapsed": false
   },
   "outputs": [
    {
     "data": {
      "text/html": [
       "<div>\n",
       "<table border=\"1\" class=\"dataframe\">\n",
       "  <thead>\n",
       "    <tr style=\"text-align: right;\">\n",
       "      <th></th>\n",
       "      <th>RegionName</th>\n",
       "      <th>City</th>\n",
       "      <th>State</th>\n",
       "      <th>Metro</th>\n",
       "      <th>CountyName</th>\n",
       "      <th>SizeRank</th>\n",
       "      <th>_2011_01</th>\n",
       "      <th>_2011_02</th>\n",
       "      <th>_2011_03</th>\n",
       "      <th>_2011_04</th>\n",
       "      <th>...</th>\n",
       "      <th>_2016_04</th>\n",
       "      <th>_2016_05</th>\n",
       "      <th>_2016_06</th>\n",
       "      <th>_2016_07</th>\n",
       "      <th>_2016_08</th>\n",
       "      <th>_2016_09</th>\n",
       "      <th>_2016_10</th>\n",
       "      <th>_2016_11</th>\n",
       "      <th>_2016_12</th>\n",
       "      <th>_2017_01</th>\n",
       "    </tr>\n",
       "  </thead>\n",
       "  <tbody>\n",
       "    <tr>\n",
       "      <th>0</th>\n",
       "      <td>92101</td>\n",
       "      <td>San Diego</td>\n",
       "      <td>CA</td>\n",
       "      <td>San Diego</td>\n",
       "      <td>San Diego</td>\n",
       "      <td>37</td>\n",
       "      <td>NaN</td>\n",
       "      <td>NaN</td>\n",
       "      <td>NaN</td>\n",
       "      <td>NaN</td>\n",
       "      <td>...</td>\n",
       "      <td>1735.0</td>\n",
       "      <td>1755</td>\n",
       "      <td>1770.0</td>\n",
       "      <td>1768.0</td>\n",
       "      <td>1754.0</td>\n",
       "      <td>1812.5</td>\n",
       "      <td>1767.5</td>\n",
       "      <td>1730.0</td>\n",
       "      <td>1770.0</td>\n",
       "      <td>1835.0</td>\n",
       "    </tr>\n",
       "    <tr>\n",
       "      <th>1</th>\n",
       "      <td>60614</td>\n",
       "      <td>Chicago</td>\n",
       "      <td>IL</td>\n",
       "      <td>Chicago</td>\n",
       "      <td>Cook</td>\n",
       "      <td>4</td>\n",
       "      <td>NaN</td>\n",
       "      <td>NaN</td>\n",
       "      <td>NaN</td>\n",
       "      <td>NaN</td>\n",
       "      <td>...</td>\n",
       "      <td>1150.0</td>\n",
       "      <td>1145</td>\n",
       "      <td>1150.0</td>\n",
       "      <td>1125.0</td>\n",
       "      <td>1095.0</td>\n",
       "      <td>1095.0</td>\n",
       "      <td>1095.0</td>\n",
       "      <td>1095.0</td>\n",
       "      <td>1150.0</td>\n",
       "      <td>1170.0</td>\n",
       "    </tr>\n",
       "    <tr>\n",
       "      <th>2</th>\n",
       "      <td>90005</td>\n",
       "      <td>Los Angeles</td>\n",
       "      <td>CA</td>\n",
       "      <td>Los Angeles-Long Beach-Anaheim</td>\n",
       "      <td>Los Angeles</td>\n",
       "      <td>54</td>\n",
       "      <td>NaN</td>\n",
       "      <td>NaN</td>\n",
       "      <td>NaN</td>\n",
       "      <td>NaN</td>\n",
       "      <td>...</td>\n",
       "      <td>1235.0</td>\n",
       "      <td>1185</td>\n",
       "      <td>1195.0</td>\n",
       "      <td>1200.0</td>\n",
       "      <td>1295.0</td>\n",
       "      <td>1272.5</td>\n",
       "      <td>1262.5</td>\n",
       "      <td>1350.0</td>\n",
       "      <td>1325.0</td>\n",
       "      <td>1325.0</td>\n",
       "    </tr>\n",
       "    <tr>\n",
       "      <th>3</th>\n",
       "      <td>60625</td>\n",
       "      <td>Chicago</td>\n",
       "      <td>IL</td>\n",
       "      <td>Chicago</td>\n",
       "      <td>Cook</td>\n",
       "      <td>20</td>\n",
       "      <td>NaN</td>\n",
       "      <td>NaN</td>\n",
       "      <td>NaN</td>\n",
       "      <td>NaN</td>\n",
       "      <td>...</td>\n",
       "      <td>995.0</td>\n",
       "      <td>950</td>\n",
       "      <td>950.0</td>\n",
       "      <td>995.0</td>\n",
       "      <td>950.0</td>\n",
       "      <td>895.0</td>\n",
       "      <td>875.0</td>\n",
       "      <td>850.0</td>\n",
       "      <td>875.0</td>\n",
       "      <td>950.0</td>\n",
       "    </tr>\n",
       "    <tr>\n",
       "      <th>4</th>\n",
       "      <td>11221</td>\n",
       "      <td>New York</td>\n",
       "      <td>NY</td>\n",
       "      <td>New York</td>\n",
       "      <td>Kings</td>\n",
       "      <td>28</td>\n",
       "      <td>NaN</td>\n",
       "      <td>NaN</td>\n",
       "      <td>NaN</td>\n",
       "      <td>NaN</td>\n",
       "      <td>...</td>\n",
       "      <td>1630.0</td>\n",
       "      <td>1630</td>\n",
       "      <td>1700.0</td>\n",
       "      <td>1875.0</td>\n",
       "      <td>1772.5</td>\n",
       "      <td>1890.0</td>\n",
       "      <td>1895.0</td>\n",
       "      <td>1895.0</td>\n",
       "      <td>1695.0</td>\n",
       "      <td>1697.0</td>\n",
       "    </tr>\n",
       "  </tbody>\n",
       "</table>\n",
       "<p>5 rows × 79 columns</p>\n",
       "</div>"
      ],
      "text/plain": [
       "   RegionName         City State                           Metro   CountyName  \\\n",
       "0       92101    San Diego    CA                       San Diego    San Diego   \n",
       "1       60614      Chicago    IL                         Chicago         Cook   \n",
       "2       90005  Los Angeles    CA  Los Angeles-Long Beach-Anaheim  Los Angeles   \n",
       "3       60625      Chicago    IL                         Chicago         Cook   \n",
       "4       11221     New York    NY                        New York        Kings   \n",
       "\n",
       "   SizeRank  _2011_01  _2011_02  _2011_03  _2011_04    ...     _2016_04  \\\n",
       "0        37       NaN       NaN       NaN       NaN    ...       1735.0   \n",
       "1         4       NaN       NaN       NaN       NaN    ...       1150.0   \n",
       "2        54       NaN       NaN       NaN       NaN    ...       1235.0   \n",
       "3        20       NaN       NaN       NaN       NaN    ...        995.0   \n",
       "4        28       NaN       NaN       NaN       NaN    ...       1630.0   \n",
       "\n",
       "   _2016_05  _2016_06  _2016_07  _2016_08  _2016_09  _2016_10  _2016_11  \\\n",
       "0      1755    1770.0    1768.0    1754.0    1812.5    1767.5    1730.0   \n",
       "1      1145    1150.0    1125.0    1095.0    1095.0    1095.0    1095.0   \n",
       "2      1185    1195.0    1200.0    1295.0    1272.5    1262.5    1350.0   \n",
       "3       950     950.0     995.0     950.0     895.0     875.0     850.0   \n",
       "4      1630    1700.0    1875.0    1772.5    1890.0    1895.0    1895.0   \n",
       "\n",
       "   _2016_12  _2017_01  \n",
       "0    1770.0    1835.0  \n",
       "1    1150.0    1170.0  \n",
       "2    1325.0    1325.0  \n",
       "3     875.0     950.0  \n",
       "4    1695.0    1697.0  \n",
       "\n",
       "[5 rows x 79 columns]"
      ]
     },
     "execution_count": 29,
     "metadata": {},
     "output_type": "execute_result"
    }
   ],
   "source": [
    "dfstudio.head()"
   ]
  },
  {
   "cell_type": "code",
   "execution_count": 4,
   "metadata": {
    "collapsed": false
   },
   "outputs": [],
   "source": [
    "parks =  gpd.GeoDataFrame.from_file(\"NYC_shapefiles/Parks Properties.geojson\")"
   ]
  },
  {
   "cell_type": "code",
   "execution_count": 7,
   "metadata": {
    "collapsed": false
   },
   "outputs": [
    {
     "data": {
      "text/html": [
       "<div>\n",
       "<table border=\"1\" class=\"dataframe\">\n",
       "  <thead>\n",
       "    <tr style=\"text-align: right;\">\n",
       "      <th></th>\n",
       "      <th>acres</th>\n",
       "      <th>address</th>\n",
       "      <th>borough</th>\n",
       "      <th>communityb</th>\n",
       "      <th>councildis</th>\n",
       "      <th>geometry</th>\n",
       "      <th>gispropnum</th>\n",
       "      <th>location</th>\n",
       "      <th>nys_assemb</th>\n",
       "      <th>nys_senate</th>\n",
       "      <th>signname</th>\n",
       "      <th>typecatego</th>\n",
       "      <th>us_congres</th>\n",
       "      <th>waterfront</th>\n",
       "      <th>zipcode</th>\n",
       "    </tr>\n",
       "  </thead>\n",
       "  <tbody>\n",
       "    <tr>\n",
       "      <th>0</th>\n",
       "      <td>20.34</td>\n",
       "      <td>40-50 VERNON BOULEVARD</td>\n",
       "      <td>Q</td>\n",
       "      <td>401, 402</td>\n",
       "      <td>26</td>\n",
       "      <td>(POLYGON ((-73.94806058617907 40.7558921243117...</td>\n",
       "      <td>Q104</td>\n",
       "      <td>Queensboro Bridge, 41 Rd., 40 Ave. bet. The Ea...</td>\n",
       "      <td>37</td>\n",
       "      <td>12</td>\n",
       "      <td>Queensbridge Park</td>\n",
       "      <td>Community Park</td>\n",
       "      <td>12</td>\n",
       "      <td>Yes</td>\n",
       "      <td>11101</td>\n",
       "    </tr>\n",
       "    <tr>\n",
       "      <th>1</th>\n",
       "      <td>6.1</td>\n",
       "      <td>200 CITY ISLAND AV</td>\n",
       "      <td>X</td>\n",
       "      <td>210</td>\n",
       "      <td>13</td>\n",
       "      <td>(POLYGON ((-73.78243845176827 40.8440889832096...</td>\n",
       "      <td>X253</td>\n",
       "      <td>City Island Ave bet. Centre St. and Winter St.</td>\n",
       "      <td>82</td>\n",
       "      <td>34</td>\n",
       "      <td>Ambrosini Field</td>\n",
       "      <td>Recreation Field/Courts</td>\n",
       "      <td>14</td>\n",
       "      <td>Yes</td>\n",
       "      <td>10464</td>\n",
       "    </tr>\n",
       "    <tr>\n",
       "      <th>2</th>\n",
       "      <td>0.159</td>\n",
       "      <td>11528 Ocean Promenade</td>\n",
       "      <td>Q</td>\n",
       "      <td>414</td>\n",
       "      <td>32</td>\n",
       "      <td>(POLYGON ((-73.83638471337602 40.5780595390407...</td>\n",
       "      <td>Q494</td>\n",
       "      <td>Beach 116 St.,  Ocean Promenade</td>\n",
       "      <td>23</td>\n",
       "      <td>15</td>\n",
       "      <td>Flight 587 Memorial Park</td>\n",
       "      <td>Triangle/Plaza</td>\n",
       "      <td>5</td>\n",
       "      <td>Yes</td>\n",
       "      <td>11694</td>\n",
       "    </tr>\n",
       "    <tr>\n",
       "      <th>3</th>\n",
       "      <td>0.44</td>\n",
       "      <td>1086 EAST 180 STREET</td>\n",
       "      <td>X</td>\n",
       "      <td>206</td>\n",
       "      <td>15</td>\n",
       "      <td>(POLYGON ((-73.87623969625949 40.8419878695552...</td>\n",
       "      <td>X245</td>\n",
       "      <td>E 180 St bet. the Bronx River and Devoe Av</td>\n",
       "      <td>87</td>\n",
       "      <td>33</td>\n",
       "      <td>River Garden</td>\n",
       "      <td>Garden</td>\n",
       "      <td>15</td>\n",
       "      <td>Yes</td>\n",
       "      <td>10460</td>\n",
       "    </tr>\n",
       "    <tr>\n",
       "      <th>4</th>\n",
       "      <td>4.893</td>\n",
       "      <td>31-30 VERNON BOULEVARD</td>\n",
       "      <td>Q</td>\n",
       "      <td>401</td>\n",
       "      <td>26</td>\n",
       "      <td>(POLYGON ((-73.93623823248316 40.7692821829763...</td>\n",
       "      <td>Q465</td>\n",
       "      <td>Vernon Blvd. bet. Broadway and 30 Dr.</td>\n",
       "      <td>37</td>\n",
       "      <td>12</td>\n",
       "      <td>Socrates Sculpture Park</td>\n",
       "      <td>Neighborhood Park</td>\n",
       "      <td>12</td>\n",
       "      <td>Yes</td>\n",
       "      <td>11106</td>\n",
       "    </tr>\n",
       "  </tbody>\n",
       "</table>\n",
       "</div>"
      ],
      "text/plain": [
       "   acres                 address borough communityb councildis  \\\n",
       "0  20.34  40-50 VERNON BOULEVARD       Q   401, 402         26   \n",
       "1    6.1      200 CITY ISLAND AV       X        210         13   \n",
       "2  0.159   11528 Ocean Promenade       Q        414         32   \n",
       "3   0.44    1086 EAST 180 STREET       X        206         15   \n",
       "4  4.893  31-30 VERNON BOULEVARD       Q        401         26   \n",
       "\n",
       "                                            geometry gispropnum  \\\n",
       "0  (POLYGON ((-73.94806058617907 40.7558921243117...       Q104   \n",
       "1  (POLYGON ((-73.78243845176827 40.8440889832096...       X253   \n",
       "2  (POLYGON ((-73.83638471337602 40.5780595390407...       Q494   \n",
       "3  (POLYGON ((-73.87623969625949 40.8419878695552...       X245   \n",
       "4  (POLYGON ((-73.93623823248316 40.7692821829763...       Q465   \n",
       "\n",
       "                                            location nys_assemb nys_senate  \\\n",
       "0  Queensboro Bridge, 41 Rd., 40 Ave. bet. The Ea...         37         12   \n",
       "1     City Island Ave bet. Centre St. and Winter St.         82         34   \n",
       "2                    Beach 116 St.,  Ocean Promenade         23         15   \n",
       "3         E 180 St bet. the Bronx River and Devoe Av         87         33   \n",
       "4              Vernon Blvd. bet. Broadway and 30 Dr.         37         12   \n",
       "\n",
       "                   signname               typecatego us_congres waterfront  \\\n",
       "0         Queensbridge Park           Community Park         12        Yes   \n",
       "1           Ambrosini Field  Recreation Field/Courts         14        Yes   \n",
       "2  Flight 587 Memorial Park           Triangle/Plaza          5        Yes   \n",
       "3              River Garden                   Garden         15        Yes   \n",
       "4   Socrates Sculpture Park        Neighborhood Park         12        Yes   \n",
       "\n",
       "  zipcode  \n",
       "0   11101  \n",
       "1   10464  \n",
       "2   11694  \n",
       "3   10460  \n",
       "4   11106  "
      ]
     },
     "execution_count": 7,
     "metadata": {},
     "output_type": "execute_result"
    }
   ],
   "source": [
    "parks.head()\n"
   ]
  },
  {
   "cell_type": "code",
   "execution_count": 20,
   "metadata": {
    "collapsed": false
   },
   "outputs": [
    {
     "data": {
      "text/plain": [
       "0       (POLYGON ((-73.94806058617907 40.7558921243117...\n",
       "1       (POLYGON ((-73.78243845176827 40.8440889832096...\n",
       "2       (POLYGON ((-73.83638471337602 40.5780595390407...\n",
       "3       (POLYGON ((-73.87623969625949 40.8419878695552...\n",
       "4       (POLYGON ((-73.93623823248316 40.7692821829763...\n",
       "5       (POLYGON ((-74.00658983661403 40.5819294678948...\n",
       "6       (POLYGON ((-73.96140516032709 40.7303200456246...\n",
       "7       (POLYGON ((-73.99727044739234 40.5777662003565...\n",
       "8       (POLYGON ((-74.00342102840533 40.6717911236283...\n",
       "9       (POLYGON ((-73.93611806830104 40.7889422334689...\n",
       "10      (POLYGON ((-74.13645632629526 40.6408531912317...\n",
       "11      (POLYGON ((-74.07175700344436 40.5755440109399...\n",
       "12      (POLYGON ((-73.77721708253227 40.6109609432279...\n",
       "13      (POLYGON ((-74.19809191879783 40.5153854832136...\n",
       "14      (POLYGON ((-74.06244078908416 40.6177572041391...\n",
       "15      (POLYGON ((-74.10086903940999 40.6446864633586...\n",
       "16      (POLYGON ((-73.98881972964085 40.5830074460045...\n",
       "17      (POLYGON ((-74.25442681695237 40.5117621387068...\n",
       "18      (POLYGON ((-73.9427413132897 40.77687635946101...\n",
       "19      (POLYGON ((-73.96593741470511 40.5749101563556...\n",
       "20      (POLYGON ((-73.99150900764111 40.5717697159559...\n",
       "21      (POLYGON ((-73.79108166803699 40.5953408013682...\n",
       "22      (POLYGON ((-73.99176843871128 40.5866537070659...\n",
       "23      (POLYGON ((-73.98716119039365 40.7807437861235...\n",
       "24      (POLYGON ((-73.98325414168744 40.5753072258132...\n",
       "25      (POLYGON ((-73.98544488526341 40.5750206018835...\n",
       "26      (POLYGON ((-73.96649325908476 40.7166039750381...\n",
       "27      (POLYGON ((-73.8260497433326 40.79563781596518...\n",
       "28      (POLYGON ((-73.88561945859414 40.8243984537820...\n",
       "29      (POLYGON ((-73.91996804286025 40.7825274375056...\n",
       "                              ...                        \n",
       "1978    (POLYGON ((-73.91369727874657 40.6641497175970...\n",
       "1979    (POLYGON ((-73.95625740881648 40.8010349822530...\n",
       "1980    (POLYGON ((-73.94324537217064 40.8138302796174...\n",
       "1981    (POLYGON ((-73.94342611359905 40.8147192475150...\n",
       "1982    (POLYGON ((-73.98387235417637 40.7197295687590...\n",
       "1983    (POLYGON ((-73.8443690625045 40.81743152873411...\n",
       "1984    (POLYGON ((-73.9396097942055 40.6794572735771,...\n",
       "1985    (POLYGON ((-73.89237125748325 40.8219277333938...\n",
       "1986    (POLYGON ((-73.88533045961908 40.6743363364664...\n",
       "1987    (POLYGON ((-73.87595052953806 40.6878449853388...\n",
       "1988    (POLYGON ((-73.98623518828349 40.6782513068022...\n",
       "1989    (POLYGON ((-73.93423122811036 40.6285408740159...\n",
       "1990    (POLYGON ((-73.9435859165921 40.69011342503653...\n",
       "1991    (POLYGON ((-73.92688407440926 40.6864661544699...\n",
       "1992    (POLYGON ((-73.9227559934278 40.6845929375829,...\n",
       "1993    (POLYGON ((-73.93557987971336 40.6832747441436...\n",
       "1994    (POLYGON ((-73.94298097010989 40.6946697072083...\n",
       "1995    (POLYGON ((-73.93040313559483 40.6994923226468...\n",
       "1996    (POLYGON ((-73.91681910118025 40.6648086189680...\n",
       "1997    (POLYGON ((-73.93292901968481 40.6766444037239...\n",
       "1998    (POLYGON ((-73.95874077445448 40.7312895673673...\n",
       "1999    (POLYGON ((-73.82903749921746 40.7174356557658...\n",
       "2000    (POLYGON ((-73.94597694244223 40.8095880804777...\n",
       "2001    (POLYGON ((-73.87146310607713 40.7705810305757...\n",
       "2002    (POLYGON ((-73.8965240595704 40.80005672074438...\n",
       "2003    (POLYGON ((-73.88421994097524 40.6686687333242...\n",
       "2004    (POLYGON ((-73.96181739460218 40.6814427578442...\n",
       "2005    (POLYGON ((-73.95373125485807 40.7078717813335...\n",
       "2006    (POLYGON ((-73.91081850540633 40.6836497305271...\n",
       "2007    (POLYGON ((-74.0725298845902 40.62778072833294...\n",
       "Name: geometry, dtype: object"
      ]
     },
     "execution_count": 20,
     "metadata": {},
     "output_type": "execute_result"
    }
   ],
   "source": [
    "parks.geometry"
   ]
  },
  {
   "cell_type": "code",
   "execution_count": 5,
   "metadata": {
    "collapsed": false
   },
   "outputs": [
    {
     "data": {
      "text/plain": [
       "<matplotlib.axes._subplots.AxesSubplot at 0x1162ddf50>"
      ]
     },
     "execution_count": 5,
     "metadata": {},
     "output_type": "execute_result"
    },
    {
     "data": {
      "image/png": "[encoded data removed]",
      "text/plain": [
       "<matplotlib.figure.Figure at 0x1162dd810>"
      ]
     },
     "metadata": {},
     "output_type": "display_data"
    }
   ],
   "source": [
    "parks.plot()"
   ]
  },
  {
   "cell_type": "code",
   "execution_count": 6,
   "metadata": {
    "collapsed": false
   },
   "outputs": [
    {
     "data": {
      "text/plain": [
       "{'init': u'epsg:2263'}"
      ]
     },
     "execution_count": 6,
     "metadata": {},
     "output_type": "execute_result"
    }
   ],
   "source": [
    "parks.crs\n",
    "park_proj = parks.to_crs({'init': u'epsg:2263'})\n",
    "park_proj.crs"
   ]
  },
  {
   "cell_type": "code",
   "execution_count": 79,
   "metadata": {
    "collapsed": false
   },
   "outputs": [
    {
     "data": {
      "text/plain": [
       "<matplotlib.axes._subplots.AxesSubplot at 0x130f02290>"
      ]
     },
     "execution_count": 79,
     "metadata": {},
     "output_type": "execute_result"
    },
    {
     "data": {
      "image/png": "[encoded data removed]",
      "text/plain": [
       "<matplotlib.figure.Figure at 0x132b6d650>"
      ]
     },
     "metadata": {},
     "output_type": "display_data"
    }
   ],
   "source": [
    "park_proj.plot()"
   ]
  },
  {
   "cell_type": "code",
   "execution_count": 25,
   "metadata": {
    "collapsed": true
   },
   "outputs": [],
   "source": [
    "from geopy.distance import vincenty"
   ]
  },
  {
   "cell_type": "code",
   "execution_count": 8,
   "metadata": {
    "collapsed": true
   },
   "outputs": [],
   "source": [
    "zipcodes = gpd.GeoDataFrame.from_file(\"NYC_shapefiles/ZIP_CODE_040114/ZIP_CODE_040114.shp\")"
   ]
  },
  {
   "cell_type": "markdown",
   "metadata": {
    "collapsed": true
   },
   "source": [
    "## filter the zillow data for new york city  and add apartment type"
   ]
  },
  {
   "cell_type": "code",
   "execution_count": 9,
   "metadata": {
    "collapsed": true
   },
   "outputs": [],
   "source": [
    "dfstudio['apt_kind'] = 0\n",
    "dfonebr['apt_kind'] = 1\n",
    "dftwobr['apt_kind'] = 2"
   ]
  },
  {
   "cell_type": "markdown",
   "metadata": {},
   "source": [
    "## combine all the data then filter for nyc"
   ]
  },
  {
   "cell_type": "code",
   "execution_count": 10,
   "metadata": {
    "collapsed": false
   },
   "outputs": [
    {
     "data": {
      "text/html": [
       "<div>\n",
       "<table border=\"1\" class=\"dataframe\">\n",
       "  <thead>\n",
       "    <tr style=\"text-align: right;\">\n",
       "      <th></th>\n",
       "      <th>RegionName</th>\n",
       "      <th>City</th>\n",
       "      <th>State</th>\n",
       "      <th>Metro</th>\n",
       "      <th>CountyName</th>\n",
       "      <th>SizeRank</th>\n",
       "      <th>_2011_01</th>\n",
       "      <th>_2011_02</th>\n",
       "      <th>_2011_03</th>\n",
       "      <th>_2011_04</th>\n",
       "      <th>...</th>\n",
       "      <th>_2016_05</th>\n",
       "      <th>_2016_06</th>\n",
       "      <th>_2016_07</th>\n",
       "      <th>_2016_08</th>\n",
       "      <th>_2016_09</th>\n",
       "      <th>_2016_10</th>\n",
       "      <th>_2016_11</th>\n",
       "      <th>_2016_12</th>\n",
       "      <th>_2017_01</th>\n",
       "      <th>apt_kind</th>\n",
       "    </tr>\n",
       "  </thead>\n",
       "  <tbody>\n",
       "    <tr>\n",
       "      <th>0</th>\n",
       "      <td>20009</td>\n",
       "      <td>Washington</td>\n",
       "      <td>DC</td>\n",
       "      <td>Washington</td>\n",
       "      <td>District of Columbia</td>\n",
       "      <td>19</td>\n",
       "      <td>NaN</td>\n",
       "      <td>NaN</td>\n",
       "      <td>NaN</td>\n",
       "      <td>NaN</td>\n",
       "      <td>...</td>\n",
       "      <td>1699.0</td>\n",
       "      <td>1760.0</td>\n",
       "      <td>1737.5</td>\n",
       "      <td>1850.0</td>\n",
       "      <td>1750.0</td>\n",
       "      <td>1735.0</td>\n",
       "      <td>1750.0</td>\n",
       "      <td>1762.5</td>\n",
       "      <td>1752.5</td>\n",
       "      <td>0</td>\n",
       "    </tr>\n",
       "  </tbody>\n",
       "</table>\n",
       "<p>1 rows × 80 columns</p>\n",
       "</div>"
      ],
      "text/plain": [
       "   RegionName        City State       Metro            CountyName  SizeRank  \\\n",
       "0       20009  Washington    DC  Washington  District of Columbia        19   \n",
       "\n",
       "   _2011_01  _2011_02  _2011_03  _2011_04    ...     _2016_05  _2016_06  \\\n",
       "0       NaN       NaN       NaN       NaN    ...       1699.0    1760.0   \n",
       "\n",
       "   _2016_07  _2016_08  _2016_09  _2016_10  _2016_11  _2016_12  _2017_01  \\\n",
       "0    1737.5    1850.0    1750.0    1735.0    1750.0    1762.5    1752.5   \n",
       "\n",
       "   apt_kind  \n",
       "0         0  \n",
       "\n",
       "[1 rows x 80 columns]"
      ]
     },
     "execution_count": 10,
     "metadata": {},
     "output_type": "execute_result"
    }
   ],
   "source": [
    "dfstudio.head(1)"
   ]
  },
  {
   "cell_type": "code",
   "execution_count": 11,
   "metadata": {
    "collapsed": false
   },
   "outputs": [
    {
     "data": {
      "text/html": [
       "<div>\n",
       "<table border=\"1\" class=\"dataframe\">\n",
       "  <thead>\n",
       "    <tr style=\"text-align: right;\">\n",
       "      <th></th>\n",
       "      <th>RegionName</th>\n",
       "      <th>City</th>\n",
       "      <th>State</th>\n",
       "      <th>Metro</th>\n",
       "      <th>CountyName</th>\n",
       "      <th>SizeRank</th>\n",
       "      <th>_2010_04</th>\n",
       "      <th>_2010_05</th>\n",
       "      <th>_2010_06</th>\n",
       "      <th>_2010_07</th>\n",
       "      <th>...</th>\n",
       "      <th>_2016_05</th>\n",
       "      <th>_2016_06</th>\n",
       "      <th>_2016_07</th>\n",
       "      <th>_2016_08</th>\n",
       "      <th>_2016_09</th>\n",
       "      <th>_2016_10</th>\n",
       "      <th>_2016_11</th>\n",
       "      <th>_2016_12</th>\n",
       "      <th>_2017_01</th>\n",
       "      <th>apt_kind</th>\n",
       "    </tr>\n",
       "  </thead>\n",
       "  <tbody>\n",
       "    <tr>\n",
       "      <th>0</th>\n",
       "      <td>60601</td>\n",
       "      <td>Chicago</td>\n",
       "      <td>IL</td>\n",
       "      <td>Chicago</td>\n",
       "      <td>Cook</td>\n",
       "      <td>348</td>\n",
       "      <td>NaN</td>\n",
       "      <td>NaN</td>\n",
       "      <td>NaN</td>\n",
       "      <td>NaN</td>\n",
       "      <td>...</td>\n",
       "      <td>2093.0</td>\n",
       "      <td>2120.0</td>\n",
       "      <td>2156.0</td>\n",
       "      <td>2185.0</td>\n",
       "      <td>2085.0</td>\n",
       "      <td>2011.0</td>\n",
       "      <td>2017.5</td>\n",
       "      <td>1975.0</td>\n",
       "      <td>2000.0</td>\n",
       "      <td>1</td>\n",
       "    </tr>\n",
       "  </tbody>\n",
       "</table>\n",
       "<p>1 rows × 89 columns</p>\n",
       "</div>"
      ],
      "text/plain": [
       "   RegionName     City State    Metro CountyName  SizeRank  _2010_04  \\\n",
       "0       60601  Chicago    IL  Chicago       Cook       348       NaN   \n",
       "\n",
       "   _2010_05  _2010_06  _2010_07    ...     _2016_05  _2016_06  _2016_07  \\\n",
       "0       NaN       NaN       NaN    ...       2093.0    2120.0    2156.0   \n",
       "\n",
       "   _2016_08  _2016_09  _2016_10  _2016_11  _2016_12  _2017_01  apt_kind  \n",
       "0    2185.0    2085.0    2011.0    2017.5    1975.0    2000.0         1  \n",
       "\n",
       "[1 rows x 89 columns]"
      ]
     },
     "execution_count": 11,
     "metadata": {},
     "output_type": "execute_result"
    }
   ],
   "source": [
    "dfonebr.head(1)"
   ]
  },
  {
   "cell_type": "code",
   "execution_count": 12,
   "metadata": {
    "collapsed": false
   },
   "outputs": [
    {
     "data": {
      "text/html": [
       "<div>\n",
       "<table border=\"1\" class=\"dataframe\">\n",
       "  <thead>\n",
       "    <tr style=\"text-align: right;\">\n",
       "      <th></th>\n",
       "      <th>RegionName</th>\n",
       "      <th>City</th>\n",
       "      <th>State</th>\n",
       "      <th>Metro</th>\n",
       "      <th>CountyName</th>\n",
       "      <th>SizeRank</th>\n",
       "      <th>_2010_02</th>\n",
       "      <th>_2010_03</th>\n",
       "      <th>_2010_04</th>\n",
       "      <th>_2010_05</th>\n",
       "      <th>...</th>\n",
       "      <th>_2016_05</th>\n",
       "      <th>_2016_06</th>\n",
       "      <th>_2016_07</th>\n",
       "      <th>_2016_08</th>\n",
       "      <th>_2016_09</th>\n",
       "      <th>_2016_10</th>\n",
       "      <th>_2016_11</th>\n",
       "      <th>_2016_12</th>\n",
       "      <th>_2017_01</th>\n",
       "      <th>apt_kind</th>\n",
       "    </tr>\n",
       "  </thead>\n",
       "  <tbody>\n",
       "    <tr>\n",
       "      <th>0</th>\n",
       "      <td>60605</td>\n",
       "      <td>Chicago</td>\n",
       "      <td>IL</td>\n",
       "      <td>Chicago</td>\n",
       "      <td>Cook</td>\n",
       "      <td>383</td>\n",
       "      <td>NaN</td>\n",
       "      <td>NaN</td>\n",
       "      <td>NaN</td>\n",
       "      <td>NaN</td>\n",
       "      <td>...</td>\n",
       "      <td>2581.0</td>\n",
       "      <td>2570.0</td>\n",
       "      <td>2535.0</td>\n",
       "      <td>2600.0</td>\n",
       "      <td>2529.0</td>\n",
       "      <td>2500.0</td>\n",
       "      <td>2558.0</td>\n",
       "      <td>2600.0</td>\n",
       "      <td>2500.0</td>\n",
       "      <td>2</td>\n",
       "    </tr>\n",
       "  </tbody>\n",
       "</table>\n",
       "<p>1 rows × 91 columns</p>\n",
       "</div>"
      ],
      "text/plain": [
       "   RegionName     City State    Metro CountyName  SizeRank  _2010_02  \\\n",
       "0       60605  Chicago    IL  Chicago       Cook       383       NaN   \n",
       "\n",
       "   _2010_03  _2010_04  _2010_05    ...     _2016_05  _2016_06  _2016_07  \\\n",
       "0       NaN       NaN       NaN    ...       2581.0    2570.0    2535.0   \n",
       "\n",
       "   _2016_08  _2016_09  _2016_10  _2016_11  _2016_12  _2017_01  apt_kind  \n",
       "0    2600.0    2529.0    2500.0    2558.0    2600.0    2500.0         2  \n",
       "\n",
       "[1 rows x 91 columns]"
      ]
     },
     "execution_count": 12,
     "metadata": {},
     "output_type": "execute_result"
    }
   ],
   "source": [
    "dftwobr.head(1)"
   ]
  },
  {
   "cell_type": "code",
   "execution_count": 13,
   "metadata": {
    "collapsed": true
   },
   "outputs": [],
   "source": [
    "alldata = pd.concat([dfstudio, dfonebr, dftwobr])"
   ]
  },
  {
   "cell_type": "code",
   "execution_count": 14,
   "metadata": {
    "collapsed": false
   },
   "outputs": [
    {
     "data": {
      "text/html": [
       "<div>\n",
       "<table border=\"1\" class=\"dataframe\">\n",
       "  <thead>\n",
       "    <tr style=\"text-align: right;\">\n",
       "      <th></th>\n",
       "      <th>City</th>\n",
       "      <th>CountyName</th>\n",
       "      <th>Metro</th>\n",
       "      <th>RegionName</th>\n",
       "      <th>SizeRank</th>\n",
       "      <th>State</th>\n",
       "      <th>_2010_02</th>\n",
       "      <th>_2010_03</th>\n",
       "      <th>_2010_04</th>\n",
       "      <th>_2010_05</th>\n",
       "      <th>...</th>\n",
       "      <th>_2016_05</th>\n",
       "      <th>_2016_06</th>\n",
       "      <th>_2016_07</th>\n",
       "      <th>_2016_08</th>\n",
       "      <th>_2016_09</th>\n",
       "      <th>_2016_10</th>\n",
       "      <th>_2016_11</th>\n",
       "      <th>_2016_12</th>\n",
       "      <th>_2017_01</th>\n",
       "      <th>apt_kind</th>\n",
       "    </tr>\n",
       "  </thead>\n",
       "  <tbody>\n",
       "    <tr>\n",
       "      <th>0</th>\n",
       "      <td>Washington</td>\n",
       "      <td>District of Columbia</td>\n",
       "      <td>Washington</td>\n",
       "      <td>20009</td>\n",
       "      <td>19</td>\n",
       "      <td>DC</td>\n",
       "      <td>NaN</td>\n",
       "      <td>NaN</td>\n",
       "      <td>NaN</td>\n",
       "      <td>NaN</td>\n",
       "      <td>...</td>\n",
       "      <td>1699.0</td>\n",
       "      <td>1760.0</td>\n",
       "      <td>1737.5</td>\n",
       "      <td>1850.0</td>\n",
       "      <td>1750.0</td>\n",
       "      <td>1735.0</td>\n",
       "      <td>1750.0</td>\n",
       "      <td>1762.5</td>\n",
       "      <td>1752.5</td>\n",
       "      <td>0</td>\n",
       "    </tr>\n",
       "    <tr>\n",
       "      <th>1</th>\n",
       "      <td>San Diego</td>\n",
       "      <td>San Diego</td>\n",
       "      <td>San Diego</td>\n",
       "      <td>92101</td>\n",
       "      <td>37</td>\n",
       "      <td>CA</td>\n",
       "      <td>NaN</td>\n",
       "      <td>NaN</td>\n",
       "      <td>NaN</td>\n",
       "      <td>NaN</td>\n",
       "      <td>...</td>\n",
       "      <td>1755.0</td>\n",
       "      <td>1770.0</td>\n",
       "      <td>1768.0</td>\n",
       "      <td>1754.0</td>\n",
       "      <td>1812.5</td>\n",
       "      <td>1767.5</td>\n",
       "      <td>1730.0</td>\n",
       "      <td>1770.0</td>\n",
       "      <td>1835.0</td>\n",
       "      <td>0</td>\n",
       "    </tr>\n",
       "  </tbody>\n",
       "</table>\n",
       "<p>2 rows × 91 columns</p>\n",
       "</div>"
      ],
      "text/plain": [
       "         City            CountyName       Metro  RegionName  SizeRank State  \\\n",
       "0  Washington  District of Columbia  Washington       20009        19    DC   \n",
       "1   San Diego             San Diego   San Diego       92101        37    CA   \n",
       "\n",
       "   _2010_02  _2010_03  _2010_04  _2010_05    ...     _2016_05  _2016_06  \\\n",
       "0       NaN       NaN       NaN       NaN    ...       1699.0    1760.0   \n",
       "1       NaN       NaN       NaN       NaN    ...       1755.0    1770.0   \n",
       "\n",
       "   _2016_07  _2016_08  _2016_09  _2016_10  _2016_11  _2016_12  _2017_01  \\\n",
       "0    1737.5    1850.0    1750.0    1735.0    1750.0    1762.5    1752.5   \n",
       "1    1768.0    1754.0    1812.5    1767.5    1730.0    1770.0    1835.0   \n",
       "\n",
       "   apt_kind  \n",
       "0         0  \n",
       "1         0  \n",
       "\n",
       "[2 rows x 91 columns]"
      ]
     },
     "execution_count": 14,
     "metadata": {},
     "output_type": "execute_result"
    }
   ],
   "source": [
    "alldata.head(2)"
   ]
  },
  {
   "cell_type": "code",
   "execution_count": 15,
   "metadata": {
    "collapsed": false
   },
   "outputs": [
    {
     "data": {
      "text/html": [
       "<div>\n",
       "<table border=\"1\" class=\"dataframe\">\n",
       "  <thead>\n",
       "    <tr style=\"text-align: right;\">\n",
       "      <th></th>\n",
       "      <th>AREA</th>\n",
       "      <th>BLDGZIP</th>\n",
       "      <th>COUNTY</th>\n",
       "      <th>CTY_FIPS</th>\n",
       "      <th>POPULATION</th>\n",
       "      <th>PO_NAME</th>\n",
       "      <th>SHAPE_AREA</th>\n",
       "      <th>SHAPE_LEN</th>\n",
       "      <th>STATE</th>\n",
       "      <th>ST_FIPS</th>\n",
       "      <th>URL</th>\n",
       "      <th>ZIPCODE</th>\n",
       "      <th>geometry</th>\n",
       "    </tr>\n",
       "  </thead>\n",
       "  <tbody>\n",
       "    <tr>\n",
       "      <th>0</th>\n",
       "      <td>2.269930e+07</td>\n",
       "      <td>0</td>\n",
       "      <td>Queens</td>\n",
       "      <td>081</td>\n",
       "      <td>18681.0</td>\n",
       "      <td>Jamaica</td>\n",
       "      <td>0.0</td>\n",
       "      <td>0.0</td>\n",
       "      <td>NY</td>\n",
       "      <td>36</td>\n",
       "      <td>http://www.usps.com/</td>\n",
       "      <td>11436</td>\n",
       "      <td>POLYGON ((1038098.251871482 188138.3800067157,...</td>\n",
       "    </tr>\n",
       "    <tr>\n",
       "      <th>1</th>\n",
       "      <td>2.963100e+07</td>\n",
       "      <td>0</td>\n",
       "      <td>Kings</td>\n",
       "      <td>047</td>\n",
       "      <td>62426.0</td>\n",
       "      <td>Brooklyn</td>\n",
       "      <td>0.0</td>\n",
       "      <td>0.0</td>\n",
       "      <td>NY</td>\n",
       "      <td>36</td>\n",
       "      <td>http://www.usps.com/</td>\n",
       "      <td>11213</td>\n",
       "      <td>POLYGON ((1001613.712964058 186926.4395172149,...</td>\n",
       "    </tr>\n",
       "    <tr>\n",
       "      <th>2</th>\n",
       "      <td>4.197210e+07</td>\n",
       "      <td>0</td>\n",
       "      <td>Kings</td>\n",
       "      <td>047</td>\n",
       "      <td>83866.0</td>\n",
       "      <td>Brooklyn</td>\n",
       "      <td>0.0</td>\n",
       "      <td>0.0</td>\n",
       "      <td>NY</td>\n",
       "      <td>36</td>\n",
       "      <td>http://www.usps.com/</td>\n",
       "      <td>11212</td>\n",
       "      <td>POLYGON ((1011174.275535807 183696.33770971, 1...</td>\n",
       "    </tr>\n",
       "    <tr>\n",
       "      <th>3</th>\n",
       "      <td>2.369863e+07</td>\n",
       "      <td>0</td>\n",
       "      <td>Kings</td>\n",
       "      <td>047</td>\n",
       "      <td>56527.0</td>\n",
       "      <td>Brooklyn</td>\n",
       "      <td>0.0</td>\n",
       "      <td>0.0</td>\n",
       "      <td>NY</td>\n",
       "      <td>36</td>\n",
       "      <td>http://www.usps.com/</td>\n",
       "      <td>11225</td>\n",
       "      <td>POLYGON ((995908.3654508889 183617.6128015518,...</td>\n",
       "    </tr>\n",
       "    <tr>\n",
       "      <th>4</th>\n",
       "      <td>3.686880e+07</td>\n",
       "      <td>0</td>\n",
       "      <td>Kings</td>\n",
       "      <td>047</td>\n",
       "      <td>72280.0</td>\n",
       "      <td>Brooklyn</td>\n",
       "      <td>0.0</td>\n",
       "      <td>0.0</td>\n",
       "      <td>NY</td>\n",
       "      <td>36</td>\n",
       "      <td>http://www.usps.com/</td>\n",
       "      <td>11218</td>\n",
       "      <td>POLYGON ((991997.1134308875 176307.4958601296,...</td>\n",
       "    </tr>\n",
       "  </tbody>\n",
       "</table>\n",
       "</div>"
      ],
      "text/plain": [
       "           AREA BLDGZIP  COUNTY CTY_FIPS  POPULATION   PO_NAME  SHAPE_AREA  \\\n",
       "0  2.269930e+07       0  Queens      081     18681.0   Jamaica         0.0   \n",
       "1  2.963100e+07       0   Kings      047     62426.0  Brooklyn         0.0   \n",
       "2  4.197210e+07       0   Kings      047     83866.0  Brooklyn         0.0   \n",
       "3  2.369863e+07       0   Kings      047     56527.0  Brooklyn         0.0   \n",
       "4  3.686880e+07       0   Kings      047     72280.0  Brooklyn         0.0   \n",
       "\n",
       "   SHAPE_LEN STATE ST_FIPS                   URL ZIPCODE  \\\n",
       "0        0.0    NY      36  http://www.usps.com/   11436   \n",
       "1        0.0    NY      36  http://www.usps.com/   11213   \n",
       "2        0.0    NY      36  http://www.usps.com/   11212   \n",
       "3        0.0    NY      36  http://www.usps.com/   11225   \n",
       "4        0.0    NY      36  http://www.usps.com/   11218   \n",
       "\n",
       "                                            geometry  \n",
       "0  POLYGON ((1038098.251871482 188138.3800067157,...  \n",
       "1  POLYGON ((1001613.712964058 186926.4395172149,...  \n",
       "2  POLYGON ((1011174.275535807 183696.33770971, 1...  \n",
       "3  POLYGON ((995908.3654508889 183617.6128015518,...  \n",
       "4  POLYGON ((991997.1134308875 176307.4958601296,...  "
      ]
     },
     "execution_count": 15,
     "metadata": {},
     "output_type": "execute_result"
    }
   ],
   "source": [
    "zipcodes.head()"
   ]
  },
  {
   "cell_type": "markdown",
   "metadata": {},
   "source": [
    "## can we overlay zipcodes and parks and look at park area per zipcode"
   ]
  },
  {
   "cell_type": "code",
   "execution_count": null,
   "metadata": {
    "collapsed": true
   },
   "outputs": [],
   "source": []
  },
  {
   "cell_type": "code",
   "execution_count": 16,
   "metadata": {
    "collapsed": false
   },
   "outputs": [
    {
     "data": {
      "text/plain": [
       "array([u'Washington', u'San Diego', u'Chicago', u'Seattle', u'New York',\n",
       "       u'Saint Louis', u'Cambridge', u'Los Angeles', u'Austin',\n",
       "       u'San Francisco', u'Denver', u'Arlington', u'Miami', u'Boston',\n",
       "       u'Brookline', u'Philadelphia', u'Miami Beach', u'Atlanta',\n",
       "       u'Union City', u'Houston', u'North Bethesda', u'Dallas', u'Orlando',\n",
       "       u'Silver Spring', u'San Antonio', u'Jersey City', u'Newton',\n",
       "       u'Plano', u'Fairfax', u'Grapevine', u'Irving', u'Hoboken',\n",
       "       u'Richmond', u'Honolulu', u'Alexandria', u'Miramar', u'North Miami',\n",
       "       u'Cedar Park', u'Waltham', u'Minneapolis', u'Woburn',\n",
       "       u'Laguna Beach', u'Greenwood Village', u'Redmond', u'Kirkland',\n",
       "       u'Mc Lean', u'Pflugerville', u'Providence', u'Charlotte',\n",
       "       u'Sunnyvale', u'Foster City', u'La Mesa', u'Bloomington',\n",
       "       u'Bethesda', u'Sandy Springs', u'Phoenix', u'Portland', u'Evanston',\n",
       "       u'Fremont', u'San Jose', u'Omaha', u'Century Village',\n",
       "       u'Newport News', u'Boulder', u'Tampa', u'Williamsburg',\n",
       "       u'Las Vegas', u'Newport Beach', u'Laurel', u'Jacksonville',\n",
       "       u'Milford', u'Aliso Viejo', u'Carmel', u'Santa Clara',\n",
       "       u'Somerville', u'Irvine', u'Glen Burnie', u'Edina', u'Cinco Ranch',\n",
       "       u'Addison', u'Baltimore', u'Memphis', u'Pittsburgh',\n",
       "       u'New Rochelle', u'Hillsboro', u'Jersey Village', u'Sacramento',\n",
       "       u'Euless', u'Oakland', u'Pasadena', u'Clayton', u'Reston',\n",
       "       u'Cincinnati', u'Frisco', u'Norfolk', u'New Haven', u'Costa Mesa',\n",
       "       u'Coconut Creek', u'Brookhaven', u'Aurora', u'Fort Lee',\n",
       "       u'Santa Monica', u'Medford', u'Fort Worth', u'McKinney',\n",
       "       u'Ypsilanti', u'Huntington', u'Long Beach', u'Watertown',\n",
       "       u'Nashville', u'Durham', u'Rockville', u'Herndon', u'Bayonne',\n",
       "       u'Fort Lauderdale', u'Yonkers', u'Jollyville', u'West Palm Beach',\n",
       "       u'Newport', u'Miami Springs', u'Bal Harbour', u'Plantation',\n",
       "       u'Quincy', u'Stamford', u'Boynton Beach', u'Pompano Beach',\n",
       "       u'Hallandale', u'Malden', u'Aventura', u'West Hollywood',\n",
       "       u'Sunny Isles Beach', u'Tucson', u'Deerfield Beach', u'Killeen',\n",
       "       u'Key Biscayne', u'Greenacres', u'Chesapeake', u'Fayetteville',\n",
       "       u'Naperville', u'Norcross', u'Royal Palm Beach', u'Bothell',\n",
       "       u'Woodbridge', u'Delray Beach', u'Owings Mills', u'Scottsdale',\n",
       "       u'Germantown', u'Kendale Lakes', u'Gainesville', u'Pembroke Pines',\n",
       "       u'Sunrise', u'San Clemente', u'Kendall West', u'Dana Point',\n",
       "       u'Goldenrod', u'Coral Terrace', u'Boise', u'Mount Pleasant',\n",
       "       u'Lakewood', u'Worcester', u'Clarksville', u'Kettering',\n",
       "       u'Manchester', u'Raleigh', u'Brockton', u'West Des Moines',\n",
       "       u'Columbia', u'Dublin', u'Springfield', u'Virginia Beach',\n",
       "       u'Harker Heights', u'Henderson', u'Norwood', u'Lewisville',\n",
       "       u'Beaverton', u'Fort Myers', u'Augusta', u'Issaquah',\n",
       "       u'Twentynine Palms', u'Burnsville', u'Citrus Ridge', u'Lansdale',\n",
       "       u'Revere', u'Lawton', u'Clifton Park', u'Oklahoma City',\n",
       "       u'Palm Beach Gardens', u'Carlsbad', u'Fort Collins', u'Manhattan',\n",
       "       u'Oceanside', u'Manassas', u'Middletown', u'Windsor Mill',\n",
       "       u'Indianapolis', u'Normal', u'Morris Township', u'Renton',\n",
       "       u'Centennial', u'Chandler', u'Shoreline', u'Tustin', u'Kent',\n",
       "       u'Duluth', u'Ann Arbor', u'Morgantown', u'Cupertino', u'Troy',\n",
       "       u'Saint Paul', u'Wellington', u'Northglenn', u'Westchase',\n",
       "       u'Riviera Beach', u'Marietta', u'Mililani', u'Chula Vista',\n",
       "       u'Williston', u'Waterbury', u'Westerville', u'Charleston',\n",
       "       u'New Orleans', u'Billings', u'West Chester', u'Margate',\n",
       "       u'Hampton', u'Paine Field-Lake Stickney', u'Mission Viejo',\n",
       "       u'Frederick', u'University Park', u'Palatine', u'Columbus',\n",
       "       u'Tempe', u'Chino Hills', u'Anaheim', u'Saint Louis Park',\n",
       "       u'Belmont', u'Bakersfield', u'Redondo Beach', u'Salem',\n",
       "       u'Temple Terrace', u'Torrington', u'Rancho Cucamonga', u'Weston',\n",
       "       u'Tamarac', u'Oakland Park', u'Branford', u'Doral',\n",
       "       u'The Crossings', u'Boca Raton', u'Huntington Beach',\n",
       "       u'Coral Gables', u'Coral Springs', u'Jupiter', u'Fountainbleau',\n",
       "       u'Lauderhill', u'The Hammocks', u'Dania Beach', u'Lantana',\n",
       "       u'Country Club', u'Ives Estates', u'Kendall', u'Hollywood',\n",
       "       u'Altamonte Springs', u'Arden-Arcade', u'Rancho Santa Margarita',\n",
       "       u'Danbury', u'Laguna Woods', u'Laguna Niguel', u'Chelsea',\n",
       "       u'North Lauderdale'], dtype=object)"
      ]
     },
     "execution_count": 16,
     "metadata": {},
     "output_type": "execute_result"
    }
   ],
   "source": [
    "alldata.City.unique()"
   ]
  },
  {
   "cell_type": "code",
   "execution_count": 17,
   "metadata": {
    "collapsed": false
   },
   "outputs": [
    {
     "name": "stderr",
     "output_type": "stream",
     "text": [
      "/usr/local/lib/python2.7/site-packages/matplotlib/__init__.py:913: UserWarning: axes.color_cycle is deprecated and replaced with axes.prop_cycle; please use the latter.\n",
      "  warnings.warn(self.msg_depr % (key, alt_key))\n"
     ]
    }
   ],
   "source": [
    "import seaborn as sns"
   ]
  },
  {
   "cell_type": "code",
   "execution_count": 28,
   "metadata": {
    "collapsed": false
   },
   "outputs": [
    {
     "data": {
      "text/plain": [
       "<matplotlib.axes._subplots.AxesSubplot at 0x10df26a50>"
      ]
     },
     "execution_count": 28,
     "metadata": {},
     "output_type": "execute_result"
    },
    {
     "data": {
      "image/png": "[encoded data removed]",
      "text/plain": [
       "<matplotlib.figure.Figure at 0x10af66b50>"
      ]
     },
     "metadata": {},
     "output_type": "display_data"
    }
   ],
   "source": [
    "# look at count of apt type by state\n",
    "import matplotlib.pyplot as plt\n",
    "plt.figure(figsize=(10, 10))\n",
    "sns.countplot(y=\"State\", hue=\"apt_kind\", data=alldata)\n"
   ]
  },
  {
   "cell_type": "code",
   "execution_count": 18,
   "metadata": {
    "collapsed": true
   },
   "outputs": [],
   "source": [
    "dfny = alldata[alldata['State']=='NY']"
   ]
  },
  {
   "cell_type": "code",
   "execution_count": 19,
   "metadata": {
    "collapsed": false
   },
   "outputs": [
    {
     "data": {
      "text/html": [
       "<div>\n",
       "<table border=\"1\" class=\"dataframe\">\n",
       "  <thead>\n",
       "    <tr style=\"text-align: right;\">\n",
       "      <th></th>\n",
       "      <th>City</th>\n",
       "      <th>CountyName</th>\n",
       "      <th>Metro</th>\n",
       "      <th>RegionName</th>\n",
       "      <th>SizeRank</th>\n",
       "      <th>State</th>\n",
       "      <th>_2010_02</th>\n",
       "      <th>_2010_03</th>\n",
       "      <th>_2010_04</th>\n",
       "      <th>_2010_05</th>\n",
       "      <th>...</th>\n",
       "      <th>_2016_05</th>\n",
       "      <th>_2016_06</th>\n",
       "      <th>_2016_07</th>\n",
       "      <th>_2016_08</th>\n",
       "      <th>_2016_09</th>\n",
       "      <th>_2016_10</th>\n",
       "      <th>_2016_11</th>\n",
       "      <th>_2016_12</th>\n",
       "      <th>_2017_01</th>\n",
       "      <th>apt_kind</th>\n",
       "    </tr>\n",
       "  </thead>\n",
       "  <tbody>\n",
       "    <tr>\n",
       "      <th>4</th>\n",
       "      <td>New York</td>\n",
       "      <td>Bronx</td>\n",
       "      <td>New York</td>\n",
       "      <td>10458</td>\n",
       "      <td>25</td>\n",
       "      <td>NY</td>\n",
       "      <td>NaN</td>\n",
       "      <td>NaN</td>\n",
       "      <td>NaN</td>\n",
       "      <td>NaN</td>\n",
       "      <td>...</td>\n",
       "      <td>1275.0</td>\n",
       "      <td>1275.0</td>\n",
       "      <td>1200.0</td>\n",
       "      <td>1297.5</td>\n",
       "      <td>1250.0</td>\n",
       "      <td>1300.0</td>\n",
       "      <td>1297.5</td>\n",
       "      <td>1275.0</td>\n",
       "      <td>1325.0</td>\n",
       "      <td>0</td>\n",
       "    </tr>\n",
       "    <tr>\n",
       "      <th>9</th>\n",
       "      <td>New York</td>\n",
       "      <td>Kings</td>\n",
       "      <td>New York</td>\n",
       "      <td>11205</td>\n",
       "      <td>56</td>\n",
       "      <td>NY</td>\n",
       "      <td>NaN</td>\n",
       "      <td>NaN</td>\n",
       "      <td>NaN</td>\n",
       "      <td>NaN</td>\n",
       "      <td>...</td>\n",
       "      <td>1995.0</td>\n",
       "      <td>1900.0</td>\n",
       "      <td>2000.0</td>\n",
       "      <td>2079.0</td>\n",
       "      <td>2079.0</td>\n",
       "      <td>2050.0</td>\n",
       "      <td>2150.0</td>\n",
       "      <td>2000.0</td>\n",
       "      <td>2000.0</td>\n",
       "      <td>0</td>\n",
       "    </tr>\n",
       "    <tr>\n",
       "      <th>12</th>\n",
       "      <td>New York</td>\n",
       "      <td>Kings</td>\n",
       "      <td>New York</td>\n",
       "      <td>11221</td>\n",
       "      <td>28</td>\n",
       "      <td>NY</td>\n",
       "      <td>NaN</td>\n",
       "      <td>NaN</td>\n",
       "      <td>NaN</td>\n",
       "      <td>NaN</td>\n",
       "      <td>...</td>\n",
       "      <td>1630.0</td>\n",
       "      <td>1700.0</td>\n",
       "      <td>1875.0</td>\n",
       "      <td>1772.5</td>\n",
       "      <td>1890.0</td>\n",
       "      <td>1895.0</td>\n",
       "      <td>1895.0</td>\n",
       "      <td>1695.0</td>\n",
       "      <td>1697.0</td>\n",
       "      <td>0</td>\n",
       "    </tr>\n",
       "    <tr>\n",
       "      <th>16</th>\n",
       "      <td>New York</td>\n",
       "      <td>Queens</td>\n",
       "      <td>New York</td>\n",
       "      <td>11102</td>\n",
       "      <td>64</td>\n",
       "      <td>NY</td>\n",
       "      <td>NaN</td>\n",
       "      <td>NaN</td>\n",
       "      <td>NaN</td>\n",
       "      <td>NaN</td>\n",
       "      <td>...</td>\n",
       "      <td>1800.0</td>\n",
       "      <td>1897.5</td>\n",
       "      <td>2100.0</td>\n",
       "      <td>1900.0</td>\n",
       "      <td>1775.0</td>\n",
       "      <td>1985.0</td>\n",
       "      <td>1900.0</td>\n",
       "      <td>1995.0</td>\n",
       "      <td>1750.0</td>\n",
       "      <td>0</td>\n",
       "    </tr>\n",
       "    <tr>\n",
       "      <th>18</th>\n",
       "      <td>New York</td>\n",
       "      <td>New York</td>\n",
       "      <td>New York</td>\n",
       "      <td>10038</td>\n",
       "      <td>76</td>\n",
       "      <td>NY</td>\n",
       "      <td>NaN</td>\n",
       "      <td>NaN</td>\n",
       "      <td>NaN</td>\n",
       "      <td>NaN</td>\n",
       "      <td>...</td>\n",
       "      <td>2872.5</td>\n",
       "      <td>2895.0</td>\n",
       "      <td>2750.0</td>\n",
       "      <td>2860.0</td>\n",
       "      <td>2750.0</td>\n",
       "      <td>2700.0</td>\n",
       "      <td>2733.0</td>\n",
       "      <td>2677.0</td>\n",
       "      <td>2632.5</td>\n",
       "      <td>0</td>\n",
       "    </tr>\n",
       "  </tbody>\n",
       "</table>\n",
       "<p>5 rows × 91 columns</p>\n",
       "</div>"
      ],
      "text/plain": [
       "        City CountyName     Metro  RegionName  SizeRank State  _2010_02  \\\n",
       "4   New York      Bronx  New York       10458        25    NY       NaN   \n",
       "9   New York      Kings  New York       11205        56    NY       NaN   \n",
       "12  New York      Kings  New York       11221        28    NY       NaN   \n",
       "16  New York     Queens  New York       11102        64    NY       NaN   \n",
       "18  New York   New York  New York       10038        76    NY       NaN   \n",
       "\n",
       "    _2010_03  _2010_04  _2010_05    ...     _2016_05  _2016_06  _2016_07  \\\n",
       "4        NaN       NaN       NaN    ...       1275.0    1275.0    1200.0   \n",
       "9        NaN       NaN       NaN    ...       1995.0    1900.0    2000.0   \n",
       "12       NaN       NaN       NaN    ...       1630.0    1700.0    1875.0   \n",
       "16       NaN       NaN       NaN    ...       1800.0    1897.5    2100.0   \n",
       "18       NaN       NaN       NaN    ...       2872.5    2895.0    2750.0   \n",
       "\n",
       "    _2016_08  _2016_09  _2016_10  _2016_11  _2016_12  _2017_01  apt_kind  \n",
       "4     1297.5    1250.0    1300.0    1297.5    1275.0    1325.0         0  \n",
       "9     2079.0    2079.0    2050.0    2150.0    2000.0    2000.0         0  \n",
       "12    1772.5    1890.0    1895.0    1895.0    1695.0    1697.0         0  \n",
       "16    1900.0    1775.0    1985.0    1900.0    1995.0    1750.0         0  \n",
       "18    2860.0    2750.0    2700.0    2733.0    2677.0    2632.5         0  \n",
       "\n",
       "[5 rows x 91 columns]"
      ]
     },
     "execution_count": 19,
     "metadata": {},
     "output_type": "execute_result"
    }
   ],
   "source": [
    "dfny.head()"
   ]
  },
  {
   "cell_type": "code",
   "execution_count": 31,
   "metadata": {
    "collapsed": false
   },
   "outputs": [
    {
     "data": {
      "text/plain": [
       "{u'datum': u'NAD83',\n",
       " u'lat_0': 40.16666666666666,\n",
       " u'lat_1': 40.66666666666666,\n",
       " u'lat_2': 41.03333333333333,\n",
       " u'lon_0': -74,\n",
       " u'no_defs': True,\n",
       " u'proj': u'lcc',\n",
       " u'units': u'us-ft',\n",
       " u'x_0': 300000,\n",
       " u'y_0': 0}"
      ]
     },
     "execution_count": 31,
     "metadata": {},
     "output_type": "execute_result"
    }
   ],
   "source": [
    "zipcodes.crs"
   ]
  },
  {
   "cell_type": "code",
   "execution_count": 20,
   "metadata": {
    "collapsed": false
   },
   "outputs": [
    {
     "data": {
      "text/plain": [
       "<matplotlib.axes._subplots.AxesSubplot at 0x1292543d0>"
      ]
     },
     "execution_count": 20,
     "metadata": {},
     "output_type": "execute_result"
    },
    {
     "data": {
      "image/png": "[encoded data removed]",
      "text/plain": [
       "<matplotlib.figure.Figure at 0x129254e50>"
      ]
     },
     "metadata": {},
     "output_type": "display_data"
    }
   ],
   "source": [
    "zipcodes.plot()"
   ]
  },
  {
   "cell_type": "code",
   "execution_count": 21,
   "metadata": {
    "collapsed": true
   },
   "outputs": [],
   "source": [
    "zipcodesproj = zipcodes.to_crs({'init': u'epsg:2263'})\n"
   ]
  },
  {
   "cell_type": "code",
   "execution_count": 22,
   "metadata": {
    "collapsed": false
   },
   "outputs": [
    {
     "data": {
      "text/plain": [
       "{'init': u'epsg:2263'}"
      ]
     },
     "execution_count": 22,
     "metadata": {},
     "output_type": "execute_result"
    }
   ],
   "source": [
    "zipcodesproj.crs\n"
   ]
  },
  {
   "cell_type": "code",
   "execution_count": 23,
   "metadata": {
    "collapsed": false
   },
   "outputs": [
    {
     "data": {
      "text/plain": [
       "<matplotlib.axes._subplots.AxesSubplot at 0x12b9ad550>"
      ]
     },
     "execution_count": 23,
     "metadata": {},
     "output_type": "execute_result"
    },
    {
     "data": {
      "image/png": "[encoded data removed]",
      "text/plain": [
       "<matplotlib.figure.Figure at 0x129254550>"
      ]
     },
     "metadata": {},
     "output_type": "display_data"
    }
   ],
   "source": [
    "zipcodesproj.plot()"
   ]
  },
  {
   "cell_type": "code",
   "execution_count": 25,
   "metadata": {
    "collapsed": false
   },
   "outputs": [
    {
     "name": "stdout",
     "output_type": "stream",
     "text": [
      "Collecting rtree\n",
      "  Downloading Rtree-0.8.3-py2-none-any.whl\n",
      "Requirement already satisfied: setuptools in /usr/local/lib/python2.7/site-packages (from rtree)\n",
      "Installing collected packages: rtree\n",
      "Successfully installed rtree-0.8.3\n"
     ]
    }
   ],
   "source": [
    "!pip install rtree"
   ]
  },
  {
   "cell_type": "code",
   "execution_count": 27,
   "metadata": {
    "collapsed": false
   },
   "outputs": [
    {
     "data": {
      "text/html": [
       "<div>\n",
       "<table border=\"1\" class=\"dataframe\">\n",
       "  <thead>\n",
       "    <tr style=\"text-align: right;\">\n",
       "      <th></th>\n",
       "      <th>acres</th>\n",
       "      <th>address</th>\n",
       "      <th>borough</th>\n",
       "      <th>communityb</th>\n",
       "      <th>councildis</th>\n",
       "      <th>geometry</th>\n",
       "      <th>gispropnum</th>\n",
       "      <th>location</th>\n",
       "      <th>nys_assemb</th>\n",
       "      <th>nys_senate</th>\n",
       "      <th>signname</th>\n",
       "      <th>typecatego</th>\n",
       "      <th>us_congres</th>\n",
       "      <th>waterfront</th>\n",
       "      <th>zipcode</th>\n",
       "    </tr>\n",
       "  </thead>\n",
       "  <tbody>\n",
       "    <tr>\n",
       "      <th>0</th>\n",
       "      <td>20.34</td>\n",
       "      <td>40-50 VERNON BOULEVARD</td>\n",
       "      <td>Q</td>\n",
       "      <td>401, 402</td>\n",
       "      <td>26</td>\n",
       "      <td>(POLYGON ((998639.728754477 214672.8443260061,...</td>\n",
       "      <td>Q104</td>\n",
       "      <td>Queensboro Bridge, 41 Rd., 40 Ave. bet. The Ea...</td>\n",
       "      <td>37</td>\n",
       "      <td>12</td>\n",
       "      <td>Queensbridge Park</td>\n",
       "      <td>Community Park</td>\n",
       "      <td>12</td>\n",
       "      <td>Yes</td>\n",
       "      <td>11101</td>\n",
       "    </tr>\n",
       "    <tr>\n",
       "      <th>1</th>\n",
       "      <td>6.1</td>\n",
       "      <td>200 CITY ISLAND AV</td>\n",
       "      <td>X</td>\n",
       "      <td>210</td>\n",
       "      <td>13</td>\n",
       "      <td>(POLYGON ((1044445.201119723 246876.5331993471...</td>\n",
       "      <td>X253</td>\n",
       "      <td>City Island Ave bet. Centre St. and Winter St.</td>\n",
       "      <td>82</td>\n",
       "      <td>34</td>\n",
       "      <td>Ambrosini Field</td>\n",
       "      <td>Recreation Field/Courts</td>\n",
       "      <td>14</td>\n",
       "      <td>Yes</td>\n",
       "      <td>10464</td>\n",
       "    </tr>\n",
       "    <tr>\n",
       "      <th>2</th>\n",
       "      <td>0.159</td>\n",
       "      <td>11528 Ocean Promenade</td>\n",
       "      <td>Q</td>\n",
       "      <td>414</td>\n",
       "      <td>32</td>\n",
       "      <td>(POLYGON ((1029700.335596384 149921.5630676614...</td>\n",
       "      <td>Q494</td>\n",
       "      <td>Beach 116 St.,  Ocean Promenade</td>\n",
       "      <td>23</td>\n",
       "      <td>15</td>\n",
       "      <td>Flight 587 Memorial Park</td>\n",
       "      <td>Triangle/Plaza</td>\n",
       "      <td>5</td>\n",
       "      <td>Yes</td>\n",
       "      <td>11694</td>\n",
       "    </tr>\n",
       "    <tr>\n",
       "      <th>3</th>\n",
       "      <td>0.44</td>\n",
       "      <td>1086 EAST 180 STREET</td>\n",
       "      <td>X</td>\n",
       "      <td>206</td>\n",
       "      <td>15</td>\n",
       "      <td>(POLYGON ((1018493.260897728 246060.4564194266...</td>\n",
       "      <td>X245</td>\n",
       "      <td>E 180 St bet. the Bronx River and Devoe Av</td>\n",
       "      <td>87</td>\n",
       "      <td>33</td>\n",
       "      <td>River Garden</td>\n",
       "      <td>Garden</td>\n",
       "      <td>15</td>\n",
       "      <td>Yes</td>\n",
       "      <td>10460</td>\n",
       "    </tr>\n",
       "    <tr>\n",
       "      <th>4</th>\n",
       "      <td>4.893</td>\n",
       "      <td>31-30 VERNON BOULEVARD</td>\n",
       "      <td>Q</td>\n",
       "      <td>401</td>\n",
       "      <td>26</td>\n",
       "      <td>(POLYGON ((1001911.54078038 219553.4448010043,...</td>\n",
       "      <td>Q465</td>\n",
       "      <td>Vernon Blvd. bet. Broadway and 30 Dr.</td>\n",
       "      <td>37</td>\n",
       "      <td>12</td>\n",
       "      <td>Socrates Sculpture Park</td>\n",
       "      <td>Neighborhood Park</td>\n",
       "      <td>12</td>\n",
       "      <td>Yes</td>\n",
       "      <td>11106</td>\n",
       "    </tr>\n",
       "  </tbody>\n",
       "</table>\n",
       "</div>"
      ],
      "text/plain": [
       "   acres                 address borough communityb councildis  \\\n",
       "0  20.34  40-50 VERNON BOULEVARD       Q   401, 402         26   \n",
       "1    6.1      200 CITY ISLAND AV       X        210         13   \n",
       "2  0.159   11528 Ocean Promenade       Q        414         32   \n",
       "3   0.44    1086 EAST 180 STREET       X        206         15   \n",
       "4  4.893  31-30 VERNON BOULEVARD       Q        401         26   \n",
       "\n",
       "                                            geometry gispropnum  \\\n",
       "0  (POLYGON ((998639.728754477 214672.8443260061,...       Q104   \n",
       "1  (POLYGON ((1044445.201119723 246876.5331993471...       X253   \n",
       "2  (POLYGON ((1029700.335596384 149921.5630676614...       Q494   \n",
       "3  (POLYGON ((1018493.260897728 246060.4564194266...       X245   \n",
       "4  (POLYGON ((1001911.54078038 219553.4448010043,...       Q465   \n",
       "\n",
       "                                            location nys_assemb nys_senate  \\\n",
       "0  Queensboro Bridge, 41 Rd., 40 Ave. bet. The Ea...         37         12   \n",
       "1     City Island Ave bet. Centre St. and Winter St.         82         34   \n",
       "2                    Beach 116 St.,  Ocean Promenade         23         15   \n",
       "3         E 180 St bet. the Bronx River and Devoe Av         87         33   \n",
       "4              Vernon Blvd. bet. Broadway and 30 Dr.         37         12   \n",
       "\n",
       "                   signname               typecatego us_congres waterfront  \\\n",
       "0         Queensbridge Park           Community Park         12        Yes   \n",
       "1           Ambrosini Field  Recreation Field/Courts         14        Yes   \n",
       "2  Flight 587 Memorial Park           Triangle/Plaza          5        Yes   \n",
       "3              River Garden                   Garden         15        Yes   \n",
       "4   Socrates Sculpture Park        Neighborhood Park         12        Yes   \n",
       "\n",
       "  zipcode  \n",
       "0   11101  \n",
       "1   10464  \n",
       "2   11694  \n",
       "3   10460  \n",
       "4   11106  "
      ]
     },
     "execution_count": 27,
     "metadata": {},
     "output_type": "execute_result"
    }
   ],
   "source": [
    "park_proj.head()"
   ]
  },
  {
   "cell_type": "code",
   "execution_count": 28,
   "metadata": {
    "collapsed": false
   },
   "outputs": [
    {
     "name": "stderr",
     "output_type": "stream",
     "text": [
      "/usr/local/lib/python2.7/site-packages/ipykernel/__main__.py:1: FutureWarning: sort(columns=....) is deprecated, use sort_values(by=.....)\n",
      "  if __name__ == '__main__':\n"
     ]
    }
   ],
   "source": [
    "parkarea = park_proj.sort(['acres'], ascending = 0)\n"
   ]
  },
  {
   "cell_type": "code",
   "execution_count": 31,
   "metadata": {
    "collapsed": false
   },
   "outputs": [],
   "source": [
    "parkarea['acres'] = [float(x) for x in parkarea['acres']]"
   ]
  },
  {
   "cell_type": "code",
   "execution_count": 32,
   "metadata": {
    "collapsed": false
   },
   "outputs": [
    {
     "data": {
      "image/png": "[encoded data removed]",
      "text/plain": [
       "<matplotlib.figure.Figure at 0x12edddd50>"
      ]
     },
     "metadata": {},
     "output_type": "display_data"
    }
   ],
   "source": [
    "ax = sns.distplot(parkarea['acres'])"
   ]
  },
  {
   "cell_type": "markdown",
   "metadata": {},
   "source": [
    "## filter by kind and size before doing the intersection"
   ]
  },
  {
   "cell_type": "code",
   "execution_count": 33,
   "metadata": {
    "collapsed": false
   },
   "outputs": [
    {
     "data": {
      "text/plain": [
       "array([u'Community Park', u'Recreation Field/Courts', u'Triangle/Plaza',\n",
       "       u'Garden', u'Neighborhood Park', u'Nature Area',\n",
       "       u'Waterfront Facility', u'Historic House Park', u'Playground',\n",
       "       u'Undeveloped', u'Buildings/Institutions', u'Flagship Park',\n",
       "       u'Parkway', u'Jointly Operated Playground', u'Managed Sites',\n",
       "       u'Lot', u'Strip', u'Cemetery', u'Mall'], dtype=object)"
      ]
     },
     "execution_count": 33,
     "metadata": {},
     "output_type": "execute_result"
    }
   ],
   "source": [
    "#are triangle/plazas small?\n",
    "park_proj.typecatego.unique()"
   ]
  },
  {
   "cell_type": "code",
   "execution_count": 39,
   "metadata": {
    "collapsed": false
   },
   "outputs": [],
   "source": [
    "#look at size by type\n",
    "typesize = park_proj[['typecatego','acres']]\n"
   ]
  },
  {
   "cell_type": "code",
   "execution_count": 40,
   "metadata": {
    "collapsed": false
   },
   "outputs": [
    {
     "name": "stderr",
     "output_type": "stream",
     "text": [
      "/usr/local/lib/python2.7/site-packages/ipykernel/__main__.py:1: SettingWithCopyWarning: \n",
      "A value is trying to be set on a copy of a slice from a DataFrame.\n",
      "Try using .loc[row_indexer,col_indexer] = value instead\n",
      "\n",
      "See the caveats in the documentation: http://pandas.pydata.org/pandas-docs/stable/indexing.html#indexing-view-versus-copy\n",
      "  if __name__ == '__main__':\n"
     ]
    }
   ],
   "source": [
    "typesize['acres'] = [float(x) for x in typesize['acres']]"
   ]
  },
  {
   "cell_type": "code",
   "execution_count": 43,
   "metadata": {
    "collapsed": true
   },
   "outputs": [],
   "source": [
    "typeg = typesize.groupby(['typecatego']).mean().reset_index()\n",
    "typeg.columns = [['typecatego','mean_acres']]"
   ]
  },
  {
   "cell_type": "code",
   "execution_count": 50,
   "metadata": {
    "collapsed": false
   },
   "outputs": [
    {
     "name": "stderr",
     "output_type": "stream",
     "text": [
      "/usr/local/lib/python2.7/site-packages/ipykernel/__main__.py:1: FutureWarning: sort(columns=....) is deprecated, use sort_values(by=.....)\n",
      "  if __name__ == '__main__':\n"
     ]
    }
   ],
   "source": [
    "typeg = typeg.sort(['acres'], ascending = 0)"
   ]
  },
  {
   "cell_type": "code",
   "execution_count": 78,
   "metadata": {
    "collapsed": false
   },
   "outputs": [
    {
     "data": {
      "image/png": "[encoded data removed]",
      "text/plain": [
       "<matplotlib.figure.Figure at 0x132b8f0d0>"
      ]
     },
     "metadata": {},
     "output_type": "display_data"
    }
   ],
   "source": [
    "#mean acres for park type \n",
    "sns.plt.title('Mean acres per park type')\n",
    "sns.barplot(x = 'acres', y='typecatego', data = typeg)\n",
    "plt.tight_layout()\n",
    "plt.savefig('mean_acres_park_type.png')"
   ]
  },
  {
   "cell_type": "code",
   "execution_count": 47,
   "metadata": {
    "collapsed": false
   },
   "outputs": [
    {
     "name": "stderr",
     "output_type": "stream",
     "text": [
      "/usr/local/lib/python2.7/site-packages/ipykernel/__main__.py:3: FutureWarning: sort(columns=....) is deprecated, use sort_values(by=.....)\n",
      "  app.launch_new_instance()\n"
     ]
    },
    {
     "data": {
      "text/html": [
       "<div>\n",
       "<table border=\"1\" class=\"dataframe\">\n",
       "  <thead>\n",
       "    <tr style=\"text-align: right;\">\n",
       "      <th></th>\n",
       "      <th>typecatego</th>\n",
       "      <th>count</th>\n",
       "    </tr>\n",
       "  </thead>\n",
       "  <tbody>\n",
       "    <tr>\n",
       "      <th>4</th>\n",
       "      <td>Garden</td>\n",
       "      <td>344</td>\n",
       "    </tr>\n",
       "    <tr>\n",
       "      <th>16</th>\n",
       "      <td>Triangle/Plaza</td>\n",
       "      <td>338</td>\n",
       "    </tr>\n",
       "    <tr>\n",
       "      <th>11</th>\n",
       "      <td>Neighborhood Park</td>\n",
       "      <td>270</td>\n",
       "    </tr>\n",
       "    <tr>\n",
       "      <th>6</th>\n",
       "      <td>Jointly Operated Playground</td>\n",
       "      <td>267</td>\n",
       "    </tr>\n",
       "    <tr>\n",
       "      <th>13</th>\n",
       "      <td>Playground</td>\n",
       "      <td>228</td>\n",
       "    </tr>\n",
       "  </tbody>\n",
       "</table>\n",
       "</div>"
      ],
      "text/plain": [
       "                     typecatego  count\n",
       "4                        Garden    344\n",
       "16               Triangle/Plaza    338\n",
       "11            Neighborhood Park    270\n",
       "6   Jointly Operated Playground    267\n",
       "13                   Playground    228"
      ]
     },
     "execution_count": 47,
     "metadata": {},
     "output_type": "execute_result"
    }
   ],
   "source": [
    "typecount = typesize.groupby(['typecatego']).size().reset_index()\n",
    "typecount.columns = [['typecatego','count']]\n",
    "typecount = typecount.sort(['count'],ascending = 0)\n",
    "typecount.head()"
   ]
  },
  {
   "cell_type": "code",
   "execution_count": 77,
   "metadata": {
    "collapsed": false
   },
   "outputs": [
    {
     "data": {
      "image/png": "[encoded data removed]",
      "text/plain": [
       "<matplotlib.figure.Figure at 0x1328e37d0>"
      ]
     },
     "metadata": {},
     "output_type": "display_data"
    }
   ],
   "source": [
    "plt.title('Count of park type')\n",
    "sns.barplot(x = 'count', y='typecatego', data = typecount)\n",
    "plt.tight_layout()\n",
    "plt.savefig('count_park_type.png')"
   ]
  },
  {
   "cell_type": "code",
   "execution_count": 68,
   "metadata": {
    "collapsed": false
   },
   "outputs": [
    {
     "data": {
      "image/png": "[encoded data removed]",
      "text/plain": [
       "<matplotlib.figure.Figure at 0x130c3ef50>"
      ]
     },
     "metadata": {},
     "output_type": "display_data"
    }
   ],
   "source": [
    "park_proj['acres'] = [float(x) for x in park_proj['acres']]\n",
    "import matplotlib.pylab as plt\n",
    "plt.xticks(rotation=90)\n",
    "g = sns.boxplot(y=\"acres\", x=\"typecatego\",  data=park_proj, palette=\"PRGn\")\n",
    "\n"
   ]
  },
  {
   "cell_type": "code",
   "execution_count": 75,
   "metadata": {
    "collapsed": false
   },
   "outputs": [
    {
     "data": {
      "image/png": "[encoded data removed]",
      "text/plain": [
       "<matplotlib.figure.Figure at 0x131e28d10>"
      ]
     },
     "metadata": {},
     "output_type": "display_data"
    }
   ],
   "source": [
    "plt.title('Range of acreage per park type')\n",
    "plt.xticks(rotation=90)\n",
    "g = sns.boxplot(y=\"acres\", x=\"typecatego\",  data=park_proj, palette=\"PRGn\")\n",
    "plt.tight_layout()\n",
    "plt.savefig(\"spread_acreage_parktype.png\")"
   ]
  },
  {
   "cell_type": "code",
   "execution_count": null,
   "metadata": {
    "collapsed": true
   },
   "outputs": [],
   "source": [
    "park_proj"
   ]
  },
  {
   "cell_type": "code",
   "execution_count": null,
   "metadata": {
    "collapsed": true
   },
   "outputs": [],
   "source": []
  },
  {
   "cell_type": "code",
   "execution_count": null,
   "metadata": {
    "collapsed": true
   },
   "outputs": [],
   "source": []
  },
  {
   "cell_type": "code",
   "execution_count": null,
   "metadata": {
    "collapsed": true
   },
   "outputs": [],
   "source": [
    " gpd.sjoin(park_proj, zipcode_proj, how = 'inner', op = 'intersect')"
   ]
  },
  {
   "cell_type": "code",
   "execution_count": null,
   "metadata": {
    "collapsed": true
   },
   "outputs": [],
   "source": []
  },
  {
   "cell_type": "code",
   "execution_count": null,
   "metadata": {
    "collapsed": true
   },
   "outputs": [],
   "source": []
  },
  {
   "cell_type": "code",
   "execution_count": 26,
   "metadata": {
    "collapsed": false
   },
   "outputs": [
    {
     "name": "stderr",
     "output_type": "stream",
     "text": [
      "Ring Self-intersection at or near point 1007006.2635305519 247267.72926733826\n",
      "WARNING:shapely.geos:Ring Self-intersection at or near point 1007006.2635305519 247267.72926733826\n",
      "Ring Self-intersection at or near point 1005789.0067787194 182819.77023700284\n",
      "WARNING:shapely.geos:Ring Self-intersection at or near point 1005789.0067787194 182819.77023700284\n",
      "Ring Self-intersection at or near point 1002496.1675638878 236140.65244016945\n",
      "WARNING:shapely.geos:Ring Self-intersection at or near point 1002496.1675638878 236140.65244016945\n",
      "Ring Self-intersection at or near point 1024092.7969427273 178946.17955901165\n",
      "WARNING:shapely.geos:Ring Self-intersection at or near point 1024092.7969427273 178946.17955901165\n",
      "Ring Self-intersection at or near point 1015202.8603263077 263437.72415827191\n",
      "WARNING:shapely.geos:Ring Self-intersection at or near point 1015202.8603263077 263437.72415827191\n",
      "Ring Self-intersection at or near point 1028849.3264716436 245229.30224184168\n",
      "WARNING:shapely.geos:Ring Self-intersection at or near point 1028849.3264716436 245229.30224184168\n",
      "Ring Self-intersection at or near point 1040135.4065897184 258809.69174767172\n",
      "WARNING:shapely.geos:Ring Self-intersection at or near point 1040135.4065897184 258809.69174767172\n",
      "Ring Self-intersection at or near point 1035524.9066243942 249020.90883183986\n",
      "WARNING:shapely.geos:Ring Self-intersection at or near point 1035524.9066243942 249020.90883183986\n",
      "Ring Self-intersection at or near point 984206.48990447598 156582.89718592321\n",
      "WARNING:shapely.geos:Ring Self-intersection at or near point 984206.48990447598 156582.89718592321\n",
      "/usr/local/lib/python2.7/site-packages/geopandas/base.py:73: UserWarning: Cannot generate spatial index: Missing package `rtree`.\n",
      "  warn(\"Cannot generate spatial index: Missing package `rtree`.\")\n"
     ]
    },
    {
     "ename": "KeyboardInterrupt",
     "evalue": "",
     "output_type": "error",
     "traceback": [
      "\u001b[0;31m---------------------------------------------------------------------------\u001b[0m",
      "\u001b[0;31mKeyboardInterrupt\u001b[0m                         Traceback (most recent call last)",
      "\u001b[0;32m<ipython-input-26-3f2bc42d6d00>\u001b[0m in \u001b[0;36m<module>\u001b[0;34m()\u001b[0m\n\u001b[1;32m      1\u001b[0m \u001b[0;34m\u001b[0m\u001b[0m\n\u001b[0;32m----> 2\u001b[0;31m \u001b[0mintersect\u001b[0m \u001b[0;34m=\u001b[0m \u001b[0mgpd\u001b[0m\u001b[0;34m.\u001b[0m\u001b[0moverlay\u001b[0m\u001b[0;34m(\u001b[0m\u001b[0mzipcodesproj\u001b[0m\u001b[0;34m,\u001b[0m\u001b[0mpark_proj\u001b[0m\u001b[0;34m,\u001b[0m \u001b[0mhow\u001b[0m \u001b[0;34m=\u001b[0m \u001b[0;34m'intersection'\u001b[0m \u001b[0;34m)\u001b[0m\u001b[0;34m\u001b[0m\u001b[0m\n\u001b[0m",
      "\u001b[0;32m/usr/local/lib/python2.7/site-packages/geopandas/tools/overlay.pyc\u001b[0m in \u001b[0;36moverlay\u001b[0;34m(df1, df2, how, use_sindex)\u001b[0m\n\u001b[1;32m    142\u001b[0m                 \u001b[0;32mbreak\u001b[0m  \u001b[0;31m# Take the first hit\u001b[0m\u001b[0;34m\u001b[0m\u001b[0m\n\u001b[1;32m    143\u001b[0m         \u001b[0;32mfor\u001b[0m \u001b[0mcand_id\u001b[0m \u001b[0;32min\u001b[0m \u001b[0mcandidates2\u001b[0m\u001b[0;34m:\u001b[0m\u001b[0;34m\u001b[0m\u001b[0m\n\u001b[0;32m--> 144\u001b[0;31m             \u001b[0mcand\u001b[0m \u001b[0;34m=\u001b[0m \u001b[0mdf2\u001b[0m\u001b[0;34m.\u001b[0m\u001b[0mix\u001b[0m\u001b[0;34m[\u001b[0m\u001b[0mcand_id\u001b[0m\u001b[0;34m]\u001b[0m\u001b[0;34m\u001b[0m\u001b[0m\n\u001b[0m\u001b[1;32m    145\u001b[0m             \u001b[0;32mif\u001b[0m \u001b[0mcent\u001b[0m\u001b[0;34m.\u001b[0m\u001b[0mintersects\u001b[0m\u001b[0;34m(\u001b[0m\u001b[0mcand\u001b[0m\u001b[0;34m[\u001b[0m\u001b[0mdf2\u001b[0m\u001b[0;34m.\u001b[0m\u001b[0mgeometry\u001b[0m\u001b[0;34m.\u001b[0m\u001b[0mname\u001b[0m\u001b[0;34m]\u001b[0m\u001b[0;34m)\u001b[0m\u001b[0;34m:\u001b[0m\u001b[0;34m\u001b[0m\u001b[0m\n\u001b[1;32m    146\u001b[0m                 \u001b[0mdf2_hit\u001b[0m \u001b[0;34m=\u001b[0m \u001b[0mTrue\u001b[0m\u001b[0;34m\u001b[0m\u001b[0m\n",
      "\u001b[0;32m/usr/local/lib/python2.7/site-packages/pandas/core/indexing.pyc\u001b[0m in \u001b[0;36m__getitem__\u001b[0;34m(self, key)\u001b[0m\n\u001b[1;32m     85\u001b[0m         \u001b[0;32melse\u001b[0m\u001b[0;34m:\u001b[0m\u001b[0;34m\u001b[0m\u001b[0m\n\u001b[1;32m     86\u001b[0m             \u001b[0mkey\u001b[0m \u001b[0;34m=\u001b[0m \u001b[0mcom\u001b[0m\u001b[0;34m.\u001b[0m\u001b[0m_apply_if_callable\u001b[0m\u001b[0;34m(\u001b[0m\u001b[0mkey\u001b[0m\u001b[0;34m,\u001b[0m \u001b[0mself\u001b[0m\u001b[0;34m.\u001b[0m\u001b[0mobj\u001b[0m\u001b[0;34m)\u001b[0m\u001b[0;34m\u001b[0m\u001b[0m\n\u001b[0;32m---> 87\u001b[0;31m             \u001b[0;32mreturn\u001b[0m \u001b[0mself\u001b[0m\u001b[0;34m.\u001b[0m\u001b[0m_getitem_axis\u001b[0m\u001b[0;34m(\u001b[0m\u001b[0mkey\u001b[0m\u001b[0;34m,\u001b[0m \u001b[0maxis\u001b[0m\u001b[0;34m=\u001b[0m\u001b[0;36m0\u001b[0m\u001b[0;34m)\u001b[0m\u001b[0;34m\u001b[0m\u001b[0m\n\u001b[0m\u001b[1;32m     88\u001b[0m \u001b[0;34m\u001b[0m\u001b[0m\n\u001b[1;32m     89\u001b[0m     \u001b[0;32mdef\u001b[0m \u001b[0m_get_label\u001b[0m\u001b[0;34m(\u001b[0m\u001b[0mself\u001b[0m\u001b[0;34m,\u001b[0m \u001b[0mlabel\u001b[0m\u001b[0;34m,\u001b[0m \u001b[0maxis\u001b[0m\u001b[0;34m=\u001b[0m\u001b[0;36m0\u001b[0m\u001b[0;34m)\u001b[0m\u001b[0;34m:\u001b[0m\u001b[0;34m\u001b[0m\u001b[0m\n",
      "\u001b[0;32m/usr/local/lib/python2.7/site-packages/pandas/core/indexing.pyc\u001b[0m in \u001b[0;36m_getitem_axis\u001b[0;34m(self, key, axis)\u001b[0m\n\u001b[1;32m   1030\u001b[0m                     \u001b[0;32mreturn\u001b[0m \u001b[0mself\u001b[0m\u001b[0;34m.\u001b[0m\u001b[0m_get_loc\u001b[0m\u001b[0;34m(\u001b[0m\u001b[0mkey\u001b[0m\u001b[0;34m,\u001b[0m \u001b[0maxis\u001b[0m\u001b[0;34m=\u001b[0m\u001b[0maxis\u001b[0m\u001b[0;34m)\u001b[0m\u001b[0;34m\u001b[0m\u001b[0m\n\u001b[1;32m   1031\u001b[0m \u001b[0;34m\u001b[0m\u001b[0m\n\u001b[0;32m-> 1032\u001b[0;31m             \u001b[0;32mreturn\u001b[0m \u001b[0mself\u001b[0m\u001b[0;34m.\u001b[0m\u001b[0m_get_label\u001b[0m\u001b[0;34m(\u001b[0m\u001b[0mkey\u001b[0m\u001b[0;34m,\u001b[0m \u001b[0maxis\u001b[0m\u001b[0;34m=\u001b[0m\u001b[0maxis\u001b[0m\u001b[0;34m)\u001b[0m\u001b[0;34m\u001b[0m\u001b[0m\n\u001b[0m\u001b[1;32m   1033\u001b[0m \u001b[0;34m\u001b[0m\u001b[0m\n\u001b[1;32m   1034\u001b[0m     \u001b[0;32mdef\u001b[0m \u001b[0m_getitem_iterable\u001b[0m\u001b[0;34m(\u001b[0m\u001b[0mself\u001b[0m\u001b[0;34m,\u001b[0m \u001b[0mkey\u001b[0m\u001b[0;34m,\u001b[0m \u001b[0maxis\u001b[0m\u001b[0;34m=\u001b[0m\u001b[0;36m0\u001b[0m\u001b[0;34m)\u001b[0m\u001b[0;34m:\u001b[0m\u001b[0;34m\u001b[0m\u001b[0m\n",
      "\u001b[0;32m/usr/local/lib/python2.7/site-packages/pandas/core/indexing.pyc\u001b[0m in \u001b[0;36m_get_label\u001b[0;34m(self, label, axis)\u001b[0m\n\u001b[1;32m    100\u001b[0m             \u001b[0;32mraise\u001b[0m \u001b[0mIndexingError\u001b[0m\u001b[0;34m(\u001b[0m\u001b[0;34m'no slices here, handle elsewhere'\u001b[0m\u001b[0;34m)\u001b[0m\u001b[0;34m\u001b[0m\u001b[0m\n\u001b[1;32m    101\u001b[0m \u001b[0;34m\u001b[0m\u001b[0m\n\u001b[0;32m--> 102\u001b[0;31m         \u001b[0;32mreturn\u001b[0m \u001b[0mself\u001b[0m\u001b[0;34m.\u001b[0m\u001b[0mobj\u001b[0m\u001b[0;34m.\u001b[0m\u001b[0m_xs\u001b[0m\u001b[0;34m(\u001b[0m\u001b[0mlabel\u001b[0m\u001b[0;34m,\u001b[0m \u001b[0maxis\u001b[0m\u001b[0;34m=\u001b[0m\u001b[0maxis\u001b[0m\u001b[0;34m)\u001b[0m\u001b[0;34m\u001b[0m\u001b[0m\n\u001b[0m\u001b[1;32m    103\u001b[0m \u001b[0;34m\u001b[0m\u001b[0m\n\u001b[1;32m    104\u001b[0m     \u001b[0;32mdef\u001b[0m \u001b[0m_get_loc\u001b[0m\u001b[0;34m(\u001b[0m\u001b[0mself\u001b[0m\u001b[0;34m,\u001b[0m \u001b[0mkey\u001b[0m\u001b[0;34m,\u001b[0m \u001b[0maxis\u001b[0m\u001b[0;34m=\u001b[0m\u001b[0;36m0\u001b[0m\u001b[0;34m)\u001b[0m\u001b[0;34m:\u001b[0m\u001b[0;34m\u001b[0m\u001b[0m\n",
      "\u001b[0;32m/usr/local/lib/python2.7/site-packages/pandas/core/generic.pyc\u001b[0m in \u001b[0;36mxs\u001b[0;34m(self, key, axis, level, drop_level)\u001b[0m\n\u001b[1;32m   1777\u001b[0m                                                       drop_level=drop_level)\n\u001b[1;32m   1778\u001b[0m         \u001b[0;32melse\u001b[0m\u001b[0;34m:\u001b[0m\u001b[0;34m\u001b[0m\u001b[0m\n\u001b[0;32m-> 1779\u001b[0;31m             \u001b[0mloc\u001b[0m \u001b[0;34m=\u001b[0m \u001b[0mself\u001b[0m\u001b[0;34m.\u001b[0m\u001b[0mindex\u001b[0m\u001b[0;34m.\u001b[0m\u001b[0mget_loc\u001b[0m\u001b[0;34m(\u001b[0m\u001b[0mkey\u001b[0m\u001b[0;34m)\u001b[0m\u001b[0;34m\u001b[0m\u001b[0m\n\u001b[0m\u001b[1;32m   1780\u001b[0m \u001b[0;34m\u001b[0m\u001b[0m\n\u001b[1;32m   1781\u001b[0m             \u001b[0;32mif\u001b[0m \u001b[0misinstance\u001b[0m\u001b[0;34m(\u001b[0m\u001b[0mloc\u001b[0m\u001b[0;34m,\u001b[0m \u001b[0mnp\u001b[0m\u001b[0;34m.\u001b[0m\u001b[0mndarray\u001b[0m\u001b[0;34m)\u001b[0m\u001b[0;34m:\u001b[0m\u001b[0;34m\u001b[0m\u001b[0m\n",
      "\u001b[0;32m/usr/local/lib/python2.7/site-packages/pandas/indexes/base.pyc\u001b[0m in \u001b[0;36mget_loc\u001b[0;34m(self, key, method, tolerance)\u001b[0m\n\u001b[1;32m   2130\u001b[0m                 raise ValueError('tolerance argument only valid if using pad, '\n\u001b[1;32m   2131\u001b[0m                                  'backfill or nearest lookups')\n\u001b[0;32m-> 2132\u001b[0;31m             \u001b[0mkey\u001b[0m \u001b[0;34m=\u001b[0m \u001b[0m_values_from_object\u001b[0m\u001b[0;34m(\u001b[0m\u001b[0mkey\u001b[0m\u001b[0;34m)\u001b[0m\u001b[0;34m\u001b[0m\u001b[0m\n\u001b[0m\u001b[1;32m   2133\u001b[0m             \u001b[0;32mtry\u001b[0m\u001b[0;34m:\u001b[0m\u001b[0;34m\u001b[0m\u001b[0m\n\u001b[1;32m   2134\u001b[0m                 \u001b[0;32mreturn\u001b[0m \u001b[0mself\u001b[0m\u001b[0;34m.\u001b[0m\u001b[0m_engine\u001b[0m\u001b[0;34m.\u001b[0m\u001b[0mget_loc\u001b[0m\u001b[0;34m(\u001b[0m\u001b[0mkey\u001b[0m\u001b[0;34m)\u001b[0m\u001b[0;34m\u001b[0m\u001b[0m\n",
      "\u001b[0;31mKeyboardInterrupt\u001b[0m: "
     ]
    }
   ],
   "source": [
    "\n",
    "intersect = gpd.overlay(zipcodesproj,park_proj, how = 'intersection' )"
   ]
  },
  {
   "cell_type": "code",
   "execution_count": 24,
   "metadata": {
    "collapsed": false
   },
   "outputs": [
    {
     "data": {
      "text/plain": [
       "u'0.2.1'"
      ]
     },
     "execution_count": 24,
     "metadata": {},
     "output_type": "execute_result"
    }
   ],
   "source": [
    "gpd.__version__"
   ]
  },
  {
   "cell_type": "code",
   "execution_count": 80,
   "metadata": {
    "collapsed": false
   },
   "outputs": [
    {
     "data": {
      "text/html": [
       "<div>\n",
       "<table border=\"1\" class=\"dataframe\">\n",
       "  <thead>\n",
       "    <tr style=\"text-align: right;\">\n",
       "      <th></th>\n",
       "      <th>City</th>\n",
       "      <th>CountyName</th>\n",
       "      <th>Metro</th>\n",
       "      <th>RegionName</th>\n",
       "      <th>SizeRank</th>\n",
       "      <th>State</th>\n",
       "      <th>_2010_02</th>\n",
       "      <th>_2010_03</th>\n",
       "      <th>_2010_04</th>\n",
       "      <th>_2010_05</th>\n",
       "      <th>...</th>\n",
       "      <th>_2016_05</th>\n",
       "      <th>_2016_06</th>\n",
       "      <th>_2016_07</th>\n",
       "      <th>_2016_08</th>\n",
       "      <th>_2016_09</th>\n",
       "      <th>_2016_10</th>\n",
       "      <th>_2016_11</th>\n",
       "      <th>_2016_12</th>\n",
       "      <th>_2017_01</th>\n",
       "      <th>apt_kind</th>\n",
       "    </tr>\n",
       "  </thead>\n",
       "  <tbody>\n",
       "    <tr>\n",
       "      <th>4</th>\n",
       "      <td>New York</td>\n",
       "      <td>Bronx</td>\n",
       "      <td>New York</td>\n",
       "      <td>10458</td>\n",
       "      <td>25</td>\n",
       "      <td>NY</td>\n",
       "      <td>NaN</td>\n",
       "      <td>NaN</td>\n",
       "      <td>NaN</td>\n",
       "      <td>NaN</td>\n",
       "      <td>...</td>\n",
       "      <td>1275.0</td>\n",
       "      <td>1275.0</td>\n",
       "      <td>1200.0</td>\n",
       "      <td>1297.5</td>\n",
       "      <td>1250.0</td>\n",
       "      <td>1300.0</td>\n",
       "      <td>1297.5</td>\n",
       "      <td>1275.0</td>\n",
       "      <td>1325.0</td>\n",
       "      <td>0</td>\n",
       "    </tr>\n",
       "    <tr>\n",
       "      <th>9</th>\n",
       "      <td>New York</td>\n",
       "      <td>Kings</td>\n",
       "      <td>New York</td>\n",
       "      <td>11205</td>\n",
       "      <td>56</td>\n",
       "      <td>NY</td>\n",
       "      <td>NaN</td>\n",
       "      <td>NaN</td>\n",
       "      <td>NaN</td>\n",
       "      <td>NaN</td>\n",
       "      <td>...</td>\n",
       "      <td>1995.0</td>\n",
       "      <td>1900.0</td>\n",
       "      <td>2000.0</td>\n",
       "      <td>2079.0</td>\n",
       "      <td>2079.0</td>\n",
       "      <td>2050.0</td>\n",
       "      <td>2150.0</td>\n",
       "      <td>2000.0</td>\n",
       "      <td>2000.0</td>\n",
       "      <td>0</td>\n",
       "    </tr>\n",
       "    <tr>\n",
       "      <th>12</th>\n",
       "      <td>New York</td>\n",
       "      <td>Kings</td>\n",
       "      <td>New York</td>\n",
       "      <td>11221</td>\n",
       "      <td>28</td>\n",
       "      <td>NY</td>\n",
       "      <td>NaN</td>\n",
       "      <td>NaN</td>\n",
       "      <td>NaN</td>\n",
       "      <td>NaN</td>\n",
       "      <td>...</td>\n",
       "      <td>1630.0</td>\n",
       "      <td>1700.0</td>\n",
       "      <td>1875.0</td>\n",
       "      <td>1772.5</td>\n",
       "      <td>1890.0</td>\n",
       "      <td>1895.0</td>\n",
       "      <td>1895.0</td>\n",
       "      <td>1695.0</td>\n",
       "      <td>1697.0</td>\n",
       "      <td>0</td>\n",
       "    </tr>\n",
       "    <tr>\n",
       "      <th>16</th>\n",
       "      <td>New York</td>\n",
       "      <td>Queens</td>\n",
       "      <td>New York</td>\n",
       "      <td>11102</td>\n",
       "      <td>64</td>\n",
       "      <td>NY</td>\n",
       "      <td>NaN</td>\n",
       "      <td>NaN</td>\n",
       "      <td>NaN</td>\n",
       "      <td>NaN</td>\n",
       "      <td>...</td>\n",
       "      <td>1800.0</td>\n",
       "      <td>1897.5</td>\n",
       "      <td>2100.0</td>\n",
       "      <td>1900.0</td>\n",
       "      <td>1775.0</td>\n",
       "      <td>1985.0</td>\n",
       "      <td>1900.0</td>\n",
       "      <td>1995.0</td>\n",
       "      <td>1750.0</td>\n",
       "      <td>0</td>\n",
       "    </tr>\n",
       "    <tr>\n",
       "      <th>18</th>\n",
       "      <td>New York</td>\n",
       "      <td>New York</td>\n",
       "      <td>New York</td>\n",
       "      <td>10038</td>\n",
       "      <td>76</td>\n",
       "      <td>NY</td>\n",
       "      <td>NaN</td>\n",
       "      <td>NaN</td>\n",
       "      <td>NaN</td>\n",
       "      <td>NaN</td>\n",
       "      <td>...</td>\n",
       "      <td>2872.5</td>\n",
       "      <td>2895.0</td>\n",
       "      <td>2750.0</td>\n",
       "      <td>2860.0</td>\n",
       "      <td>2750.0</td>\n",
       "      <td>2700.0</td>\n",
       "      <td>2733.0</td>\n",
       "      <td>2677.0</td>\n",
       "      <td>2632.5</td>\n",
       "      <td>0</td>\n",
       "    </tr>\n",
       "  </tbody>\n",
       "</table>\n",
       "<p>5 rows × 91 columns</p>\n",
       "</div>"
      ],
      "text/plain": [
       "        City CountyName     Metro  RegionName  SizeRank State  _2010_02  \\\n",
       "4   New York      Bronx  New York       10458        25    NY       NaN   \n",
       "9   New York      Kings  New York       11205        56    NY       NaN   \n",
       "12  New York      Kings  New York       11221        28    NY       NaN   \n",
       "16  New York     Queens  New York       11102        64    NY       NaN   \n",
       "18  New York   New York  New York       10038        76    NY       NaN   \n",
       "\n",
       "    _2010_03  _2010_04  _2010_05    ...     _2016_05  _2016_06  _2016_07  \\\n",
       "4        NaN       NaN       NaN    ...       1275.0    1275.0    1200.0   \n",
       "9        NaN       NaN       NaN    ...       1995.0    1900.0    2000.0   \n",
       "12       NaN       NaN       NaN    ...       1630.0    1700.0    1875.0   \n",
       "16       NaN       NaN       NaN    ...       1800.0    1897.5    2100.0   \n",
       "18       NaN       NaN       NaN    ...       2872.5    2895.0    2750.0   \n",
       "\n",
       "    _2016_08  _2016_09  _2016_10  _2016_11  _2016_12  _2017_01  apt_kind  \n",
       "4     1297.5    1250.0    1300.0    1297.5    1275.0    1325.0         0  \n",
       "9     2079.0    2079.0    2050.0    2150.0    2000.0    2000.0         0  \n",
       "12    1772.5    1890.0    1895.0    1895.0    1695.0    1697.0         0  \n",
       "16    1900.0    1775.0    1985.0    1900.0    1995.0    1750.0         0  \n",
       "18    2860.0    2750.0    2700.0    2733.0    2677.0    2632.5         0  \n",
       "\n",
       "[5 rows x 91 columns]"
      ]
     },
     "execution_count": 80,
     "metadata": {},
     "output_type": "execute_result"
    }
   ],
   "source": [
    "dfny.head()"
   ]
  },
  {
   "cell_type": "code",
   "execution_count": null,
   "metadata": {
    "collapsed": true
   },
   "outputs": [],
   "source": [
    "project = \"spheric-crow-161317\"\n",
    "sample_query = \"SELECT * FROM `smart_cities_data.mit_streetscore` LIMIT 10\"\n",
    "\n",
    "df = read_gbq(query=sample_query, project_id=project, dialect='standard')\n",
    "`smart_cities_data.median_rents_neighborhood_studio`"
   ]
  }
 ],
 "metadata": {
  "kernelspec": {
   "display_name": "Python 2",
   "language": "python",
   "name": "python2"
  },
  "language_info": {
   "codemirror_mode": {
    "name": "ipython",
    "version": 2
   },
   "file_extension": ".py",
   "mimetype": "text/x-python",
   "name": "python",
   "nbconvert_exporter": "python",
   "pygments_lexer": "ipython2",
   "version": "2.7.11"
  }
 },
 "nbformat": 4,
 "nbformat_minor": 0
}
